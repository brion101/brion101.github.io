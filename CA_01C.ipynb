{
 "cells": [
  {
   "cell_type": "markdown",
   "metadata": {},
   "source": [
    "Name       : Brion Mallon\n",
    "\n",
    "C A 1 C    : \n",
    "\n",
    "Input      : Use movie rating files for general analysis  http://grouplens.org/datasets/movielens/\n",
    "             \n",
    "             List all files here\n",
    "                 u.data\n",
    "                 u.users\n",
    "                 u.genre\n",
    "                 u.item\n",
    "                 u.occupation\n",
    "\n",
    "Process    : Apply the following actions \n",
    "\n",
    "           - Load all listed files into SqlLite\n",
    "           - Create a new Table composed of the joins of various tables\n",
    "           - Use various packages for analysis of the data\n"
   ]
  },
  {
   "cell_type": "markdown",
   "metadata": {},
   "source": [
    "##### Start By importing required packages"
   ]
  },
  {
   "cell_type": "code",
   "execution_count": 1,
   "metadata": {
    "collapsed": false
   },
   "outputs": [],
   "source": [
    "%matplotlib inline\n",
    "import seaborn as sns\n",
    "import matplotlib as plt\n",
    "import pandas as pd\n",
    "import sqlite3 as db\n",
    "from pandas.io import sql\n",
    "import statsmodels.api as sm \n",
    "import pylab as pl \n",
    "import numpy as np \n",
    "\n",
    "# Create your connection.\n",
    "cnx = db.connect(':memory:')    # this ensure sqlite tables stay in memory"
   ]
  },
  {
   "cell_type": "markdown",
   "metadata": {},
   "source": [
    "##### There are 5 files (listed), read these for examination  \n",
    "\n",
    "Note : i applied some pre-processing to these files, e.g, i added the column headers, changed all data seperators to '|'  and change file names \n",
    "\n",
    "###### Files \n",
    "            -- u_data\n",
    "            -- u_users   \n",
    "            -- u_genre\n",
    "            -- u_item \n",
    "            -- u_occupation\n",
    " \n",
    "###### Steps\n",
    " \n",
    " For each file do the following \n",
    " \n",
    " 1. read file into a Dataframe (i can then use the pandas IO function for loading table into SQLLITE)\n",
    " 2. Using Pandas IO , load the  dataframe into a SQLlite table\n",
    " \n",
    "       "
   ]
  },
  {
   "cell_type": "code",
   "execution_count": 2,
   "metadata": {
    "collapsed": false
   },
   "outputs": [
    {
     "name": "stdout",
     "output_type": "stream",
     "text": [
      "Successfully Processed file and create table u_data\n",
      "\n",
      "Successfully Processed file and create table u_users\n",
      "\n",
      "Successfully Processed file and create table u_genre\n",
      "\n",
      "Successfully Processed file and create table u_item\n",
      "\n",
      "Successfully Processed file and create table u_occupation\n",
      "\n"
     ]
    }
   ],
   "source": [
    "def loadfiletoSQLITE(filenames=[],sep=',',encoding='UTF-8'):\n",
    "    #  Process all files on list by adding them to a SQLLITE database\n",
    "    #  Steps\n",
    "    #  1. Read the file(s) into a temporary DataFrame\n",
    "    #  2. Load the Datafile into an SQLLITE table  (use filename as table name, removing file extention first)\n",
    "    #  3. Print a successful message for each file uploaded\n",
    "    #\n",
    "    #  Inputs\n",
    "    #      filenames = list of files for loading (should be in local directory)\n",
    "    #      sep       = the coloumn seperator value e.g a ','\n",
    "    #      encoding  = the data encoding\n",
    "    #  Outputs\n",
    "    #      For each input file, a table is created in SQLLITE containing the data\n",
    "    #\n",
    "    for currentfile in filenames:\n",
    "        try:\n",
    "            TempDF = pd.read_csv(currentfile,sep=sep,encoding=encoding) \n",
    "            tablename = currentfile.split('.')[0]\n",
    "            sql.to_sql(TempDF, name=tablename, if_exists='replace', index = False, con=cnx)  \n",
    "            print (\"Successfully Processed file and create table \" + tablename + '\\n')\n",
    "        except:\n",
    "            print ('Error in loadfiletoSQLITE ')\n",
    "    return \n",
    "\n",
    "# Call the function to load the files into SQLLITE (pass a list of filenames)\n",
    "\n",
    "filenames = ['u_data','u_users','u_genre','u_item','u_occupation']\n",
    "\n",
    "loadfiletoSQLITE(filenames,sep='|',encoding='latin-1')\n"
   ]
  },
  {
   "cell_type": "markdown",
   "metadata": {},
   "source": [
    "##### Now, join the tables"
   ]
  },
  {
   "cell_type": "code",
   "execution_count": 3,
   "metadata": {
    "collapsed": false
   },
   "outputs": [
    {
     "name": "stdout",
     "output_type": "stream",
     "text": [
      "   index  User_id  age Gender  Occupation  Rating  Timestamp  Movie_id  \\\n",
      "0      0        1   24      M  technician       5  874965758         1   \n",
      "1      1        1   24      M  technician       3  876893171         2   \n",
      "2      2        1   24      M  technician       4  878542960         3   \n",
      "3      3        1   24      M  technician       3  876893119         4   \n",
      "4      4        1   24      M  technician       3  889751712         5   \n",
      "\n",
      "         Movie_title  Unknown   ...     Fantasy  FilmNoir  Horror  Musical  \\\n",
      "0   Toy Story (1995)        0   ...           0         0       0        0   \n",
      "1   GoldenEye (1995)        0   ...           0         0       0        0   \n",
      "2  Four Rooms (1995)        0   ...           0         0       0        0   \n",
      "3  Get Shorty (1995)        0   ...           0         0       0        0   \n",
      "4     Copycat (1995)        0   ...           0         0       0        0   \n",
      "\n",
      "   Mystery  Romance  SciFi  Thriller  War  Western  \n",
      "0        0        0      0         0    0        0  \n",
      "1        0        0      0         1    0        0  \n",
      "2        0        0      0         1    0        0  \n",
      "3        0        0      0         0    0        0  \n",
      "4        0        0      0         1    0        0  \n",
      "\n",
      "[5 rows x 28 columns]\n"
     ]
    }
   ],
   "source": [
    "# Run the following SQL to get the required data, then save as a new table\n",
    "#  \n",
    "#\n",
    "# select \n",
    "#     user.User_id,\n",
    "#     user.age, \n",
    "#     user.Gender, \n",
    "#     user.Occupation\n",
    "#     data.Rating, \n",
    "#     data.Timestamp\n",
    "#     item.Movie_id, \n",
    "#     item.Movie_title\n",
    "#     unknown, Action, \n",
    "#     Adventure, Animation, Childrens,\n",
    "#     omedy, Crime, Documentary, Drama,\n",
    "#     Fantasy, Film-Noir, Horror, Musical, \n",
    "#     Mystery, Romance, Sci-Fi, Thriller, War, \n",
    "#     Western\n",
    "# from u_user user\n",
    "#     join u_data data on user.User_id = data.User_id\n",
    "#     join u_item item on data.Item_id = item.Movie_id\n",
    "\n",
    "query = 'select user.User_id,user.age,user.Gender,user.Occupation,data.Rating , '\\\n",
    "' data.Timestamp,item.Movie_id,item.Movie_title, '\\\n",
    "'unknown, Action, Adventure, Animation, Childrens,'\\\n",
    "'comedy, Crime, Documentary, Drama, Fantasy, FilmNoir, Horror, Musical,'\\\n",
    "'Mystery, Romance, SciFi, Thriller, War,Western '\\\n",
    "'from u_users user join u_data data '\\\n",
    "' on user.User_id = data.User_id join u_item item on data.Item_id = item.Movie_id'\n",
    "\n",
    "# Get all required data and create a SQLLITE table\n",
    "FullData = (sql.read_sql_query(query, cnx))\n",
    "sql.to_sql(FullData, name='FullData', if_exists='replace', con=cnx) \n",
    "\n",
    "print(sql.read_sql_query('select * from FullData Limit 5', cnx))"
   ]
  },
  {
   "cell_type": "markdown",
   "metadata": {},
   "source": [
    "##### create a table containing row for every movie and genre , may need this table later"
   ]
  },
  {
   "cell_type": "code",
   "execution_count": 4,
   "metadata": {
    "collapsed": false
   },
   "outputs": [
    {
     "name": "stdout",
     "output_type": "stream",
     "text": [
      "   index  Movie_id  Genre_id\n",
      "0      0         1         3\n",
      "1      1         1         4\n",
      "2      2         1         5\n",
      "3      3         2         1\n",
      "4      4         2         2\n",
      "5      5         2        16\n",
      "6      6         3        16\n",
      "7      7         4         1\n",
      "8      8         4         5\n",
      "9      9         4         8\n"
     ]
    }
   ],
   "source": [
    "#  Run the following SQL to retrieve all the genres from u_items  \n",
    "# (note: the order of how the genre is selected can be used to match with genre_id on U_genre table) \n",
    "#\n",
    "#  select Movie_id, unknown, Action, \n",
    "#         Adventure, Animation, Children's,\n",
    "#         Comedy, Crime, Documentary, Drama,\n",
    "#         Fantasy, Film-Noir, Horror, Musical, \n",
    "#         Mystery, Romance, Sci-Fi, Thriller, War, \n",
    "#         Western\n",
    "#  from u_item\n",
    "#\n",
    "\n",
    "query = 'select Movie_id, Unknown, Action, Adventure, Animation, Childrens, '\\\n",
    "'Comedy, Crime, Documentary, Drama, Fantasy, FilmNoir, Horror, Musical, '\\\n",
    "'Mystery, Romance, SciFi, Thriller, War, Western from u_item'\n",
    "\n",
    "MovieGenre = (sql.read_sql_query(query, cnx))\n",
    "\n",
    "# Create a list containing a tuple for each movie and genre ,each tuple has a movie_id and genre_id \n",
    "# (note: genre order determines genre_id, will be i - 1. 'i' is checking each of the 19 genres on the row for true)\n",
    "\n",
    "MovieGenreList = [ (row[0],i-1) for index,row in MovieGenre.iterrows() for i in range(1,20) if row[i] == True ]\n",
    "\n",
    "# Create DataFrame from list and then add to SQLLITE\n",
    "#\n",
    "MovieGenre = pd.DataFrame(MovieGenreList, columns=[\"Movie_id\",\"Genre_id\"])\n",
    "\n",
    "sql.to_sql(MovieGenre, name='MovieGenre', if_exists='replace', con=cnx)  \n",
    "\n",
    "print(sql.read_sql_query('select * from MovieGenre Limit 10', cnx))\n"
   ]
  },
  {
   "cell_type": "markdown",
   "metadata": {
    "collapsed": true
   },
   "source": [
    "##### For each of 2 separate occupations of your choice boxplot the distribution of scores for each of 2 genres of your choice."
   ]
  },
  {
   "cell_type": "code",
   "execution_count": 5,
   "metadata": {
    "collapsed": false
   },
   "outputs": [
    {
     "name": "stdout",
     "output_type": "stream",
     "text": [
      "   Occupation    Genre  min(Rating)  avg(Rating)  max(Rating)  count(*)\n",
      "0      artist  Musical            1     3.414013            5       157\n",
      "1      artist   Sci-Fi            1     3.818182            5       308\n",
      "2  programmer  Musical            1     3.524675            5       385\n",
      "3  programmer   Sci-Fi            1     3.680377            5      1167\n"
     ]
    }
   ],
   "source": [
    "# Run the following SQL to get data from 3 tables, Fulldata, MovieGenre and u_genre\n",
    "#\n",
    "# select \n",
    "#     full1.Occupation,\n",
    "#     Genre.Genre, \n",
    "#     full1.Rating \n",
    "# from FullData full1 \n",
    "#     join MovieGenre Mgenre \n",
    "#          on full1.Movie_id = Mgenre.Movie_id\n",
    "#     join u_genre genre \n",
    "#          on Mgenre.Genre_id = genre.Genre_id \n",
    "#  where full1.Occupation in ('artist','programmer')                # Occupation are artist and programmer\n",
    "#  and   Mgenre.Genre_id in (12,15)                                 # Genres are Musical and Sci-Fi\n",
    "#  \n",
    "query = 'select full1.Occupation, Genre.Genre, full1.Rating '\\\n",
    "'from FullData full1  join MovieGenre Mgenre '\\\n",
    "'on full1.Movie_id = Mgenre.Movie_id '\\\n",
    "'join u_genre genre on Mgenre.Genre_id = genre.Genre_id '\\\n",
    "'where full1.Occupation in (\"artist\",\"programmer\")  '  \\\n",
    "'and  Mgenre.Genre_id in (12,15) '\n",
    "\n",
    "# Get all required data for plotting, also create table \n",
    "#\n",
    "OccupRating = (sql.read_sql_query(query, cnx))\n",
    "sql.to_sql(OccupRating, name='OccupRating', if_exists='replace', con=cnx)  \n",
    "\n",
    "# Get the average  rating for each occupation, genre (do a group by)\n",
    "#\n",
    "query = 'select Occupation ,Genre, min(Rating) ,avg(Rating), max(Rating) ,count(*) '\\\n",
    "'from OccupRating group by Occupation, Genre'\n",
    "\n",
    "print(sql.read_sql_query(query, cnx)) "
   ]
  },
  {
   "cell_type": "markdown",
   "metadata": {},
   "source": [
    "##### Create the boxplots (all boxplots are measuring ratings )"
   ]
  },
  {
   "cell_type": "code",
   "execution_count": 6,
   "metadata": {
    "collapsed": false
   },
   "outputs": [
    {
     "data": {
      "image/png": "[encoded data removed]",
      "text/plain": [
       "<matplotlib.figure.Figure at 0xd1dc518>"
      ]
     },
     "metadata": {},
     "output_type": "display_data"
    },
    {
     "data": {
      "image/png": "[encoded data removed]",
      "text/plain": [
       "<matplotlib.figure.Figure at 0xd1dc4e0>"
      ]
     },
     "metadata": {},
     "output_type": "display_data"
    }
   ],
   "source": [
    "# First : create 2 boxplots, one for Each Genre grouped by Occupation\n",
    "#\n",
    "plot1 = OccupRating[OccupRating['Genre'] == 'Musical'].boxplot(by='Occupation', figsize=(5,5) )\n",
    "plot2 = OccupRating[OccupRating['Genre'] == 'Sci-Fi'].boxplot(by='Occupation', figsize=(5,5) )"
   ]
  },
  {
   "cell_type": "code",
   "execution_count": 7,
   "metadata": {
    "collapsed": false
   },
   "outputs": [
    {
     "data": {
      "image/png": "[encoded data removed]",
      "text/plain": [
       "<matplotlib.figure.Figure at 0xd1dc550>"
      ]
     },
     "metadata": {},
     "output_type": "display_data"
    },
    {
     "data": {
      "image/png": "[encoded data removed]",
      "text/plain": [
       "<matplotlib.figure.Figure at 0xd1dc4a8>"
      ]
     },
     "metadata": {},
     "output_type": "display_data"
    }
   ],
   "source": [
    "# 2nd  : create 2 boxplots, one for Each Occupation grouped by Genre\n",
    "#\n",
    "plot3 = OccupRating[OccupRating['Occupation'] == 'programmer'].boxplot(by='Genre', figsize=(5,5))\n",
    "plot4 = OccupRating[OccupRating['Occupation'] == 'artist'].boxplot(by='Genre', figsize=(5,5))\n",
    " "
   ]
  },
  {
   "cell_type": "markdown",
   "metadata": {},
   "source": [
    "#####   Plot a heat map of user occupation against genre, with the squares of the heatmap coloured corresponding to the average rating."
   ]
  },
  {
   "cell_type": "code",
   "execution_count": 8,
   "metadata": {
    "collapsed": false
   },
   "outputs": [
    {
     "data": {
      "image/png": "[encoded data removed]",
      "text/plain": [
       "<matplotlib.figure.Figure at 0xd4f75c0>"
      ]
     },
     "metadata": {},
     "output_type": "display_data"
    }
   ],
   "source": [
    "# Run the following SQL to get data from 3 tables, Fulldata, MovieGenre and u_genre\n",
    "# Group by occupation and genre\n",
    "#\n",
    "# select \n",
    "#     full1.Occupation,\n",
    "#     Genre.Genre, \n",
    "#     avg(full1.Rating) as avgrating\n",
    "# from FullData full1 \n",
    "#     join MovieGenre Mgenre \n",
    "#          on full1.Movie_id = Mgenre.Movie_id\n",
    "#     join u_genre genre \n",
    "#          on Mgenre.Genre_id = genre.Genre_id \n",
    "#  group by full1.Occupation,Genre.Genre\n",
    "#   \n",
    "#  \n",
    "query = 'select full1.Occupation, Genre.Genre, avg(Rating) as avgrating '\\\n",
    "'from FullData full1  join MovieGenre Mgenre '\\\n",
    "'on full1.Movie_id = Mgenre.Movie_id '\\\n",
    "'join u_genre genre on Mgenre.Genre_id = genre.Genre_id '\\\n",
    "' group by full1.Occupation,Genre.Genre  ' \n",
    "\n",
    "# Get all required data for plotting, also create table \n",
    "#\n",
    "AllOccupRating = (sql.read_sql_query(query, cnx))\n",
    "\n",
    "# Create the heat map (first, pivot the data)\n",
    "#\n",
    "Heat1 = AllOccupRating.pivot(\"Occupation\", \"Genre\", \"avgrating\") \n",
    "Heatplot = sns.heatmap(Heat1)\n"
   ]
  },
  {
   "cell_type": "markdown",
   "metadata": {
    "collapsed": false
   },
   "source": [
    "##### Develop a logistic regression model to predict users’ gender based on the average rating they give each genre of movie.\n",
    "##### Say which genre scores are most predictive of gender, based on the coefficients of the logistic regression model.\n",
    "##### Report the accuracy of the logistic regression method."
   ]
  },
  {
   "cell_type": "code",
   "execution_count": 9,
   "metadata": {
    "collapsed": false
   },
   "outputs": [
    {
     "data": {
      "text/html": [
       "<div>\n",
       "<table border=\"1\" class=\"dataframe\">\n",
       "  <thead>\n",
       "    <tr style=\"text-align: right;\">\n",
       "      <th></th>\n",
       "      <th>Gender</th>\n",
       "      <th>Unknown</th>\n",
       "      <th>Action</th>\n",
       "      <th>Adventure</th>\n",
       "      <th>Animation</th>\n",
       "      <th>Childrens</th>\n",
       "      <th>Comedy</th>\n",
       "      <th>Crime</th>\n",
       "      <th>Documentary</th>\n",
       "      <th>Drama</th>\n",
       "      <th>...</th>\n",
       "      <th>FilmNoir</th>\n",
       "      <th>Horror</th>\n",
       "      <th>Musical</th>\n",
       "      <th>Mystery</th>\n",
       "      <th>Romance</th>\n",
       "      <th>SciFi</th>\n",
       "      <th>Thriller</th>\n",
       "      <th>War</th>\n",
       "      <th>Western</th>\n",
       "      <th>Rating</th>\n",
       "    </tr>\n",
       "  </thead>\n",
       "  <tbody>\n",
       "    <tr>\n",
       "      <th>0</th>\n",
       "      <td>0</td>\n",
       "      <td>0</td>\n",
       "      <td>0</td>\n",
       "      <td>0</td>\n",
       "      <td>1</td>\n",
       "      <td>1</td>\n",
       "      <td>1</td>\n",
       "      <td>0</td>\n",
       "      <td>0</td>\n",
       "      <td>0</td>\n",
       "      <td>...</td>\n",
       "      <td>0</td>\n",
       "      <td>0</td>\n",
       "      <td>0</td>\n",
       "      <td>0</td>\n",
       "      <td>0</td>\n",
       "      <td>0</td>\n",
       "      <td>0</td>\n",
       "      <td>0</td>\n",
       "      <td>0</td>\n",
       "      <td>5</td>\n",
       "    </tr>\n",
       "    <tr>\n",
       "      <th>1</th>\n",
       "      <td>0</td>\n",
       "      <td>0</td>\n",
       "      <td>1</td>\n",
       "      <td>1</td>\n",
       "      <td>0</td>\n",
       "      <td>0</td>\n",
       "      <td>0</td>\n",
       "      <td>0</td>\n",
       "      <td>0</td>\n",
       "      <td>0</td>\n",
       "      <td>...</td>\n",
       "      <td>0</td>\n",
       "      <td>0</td>\n",
       "      <td>0</td>\n",
       "      <td>0</td>\n",
       "      <td>0</td>\n",
       "      <td>0</td>\n",
       "      <td>1</td>\n",
       "      <td>0</td>\n",
       "      <td>0</td>\n",
       "      <td>3</td>\n",
       "    </tr>\n",
       "    <tr>\n",
       "      <th>2</th>\n",
       "      <td>0</td>\n",
       "      <td>0</td>\n",
       "      <td>0</td>\n",
       "      <td>0</td>\n",
       "      <td>0</td>\n",
       "      <td>0</td>\n",
       "      <td>0</td>\n",
       "      <td>0</td>\n",
       "      <td>0</td>\n",
       "      <td>0</td>\n",
       "      <td>...</td>\n",
       "      <td>0</td>\n",
       "      <td>0</td>\n",
       "      <td>0</td>\n",
       "      <td>0</td>\n",
       "      <td>0</td>\n",
       "      <td>0</td>\n",
       "      <td>1</td>\n",
       "      <td>0</td>\n",
       "      <td>0</td>\n",
       "      <td>4</td>\n",
       "    </tr>\n",
       "    <tr>\n",
       "      <th>3</th>\n",
       "      <td>0</td>\n",
       "      <td>0</td>\n",
       "      <td>1</td>\n",
       "      <td>0</td>\n",
       "      <td>0</td>\n",
       "      <td>0</td>\n",
       "      <td>1</td>\n",
       "      <td>0</td>\n",
       "      <td>0</td>\n",
       "      <td>1</td>\n",
       "      <td>...</td>\n",
       "      <td>0</td>\n",
       "      <td>0</td>\n",
       "      <td>0</td>\n",
       "      <td>0</td>\n",
       "      <td>0</td>\n",
       "      <td>0</td>\n",
       "      <td>0</td>\n",
       "      <td>0</td>\n",
       "      <td>0</td>\n",
       "      <td>3</td>\n",
       "    </tr>\n",
       "    <tr>\n",
       "      <th>4</th>\n",
       "      <td>0</td>\n",
       "      <td>0</td>\n",
       "      <td>0</td>\n",
       "      <td>0</td>\n",
       "      <td>0</td>\n",
       "      <td>0</td>\n",
       "      <td>0</td>\n",
       "      <td>1</td>\n",
       "      <td>0</td>\n",
       "      <td>1</td>\n",
       "      <td>...</td>\n",
       "      <td>0</td>\n",
       "      <td>0</td>\n",
       "      <td>0</td>\n",
       "      <td>0</td>\n",
       "      <td>0</td>\n",
       "      <td>0</td>\n",
       "      <td>1</td>\n",
       "      <td>0</td>\n",
       "      <td>0</td>\n",
       "      <td>3</td>\n",
       "    </tr>\n",
       "    <tr>\n",
       "      <th>5</th>\n",
       "      <td>0</td>\n",
       "      <td>0</td>\n",
       "      <td>0</td>\n",
       "      <td>0</td>\n",
       "      <td>0</td>\n",
       "      <td>0</td>\n",
       "      <td>0</td>\n",
       "      <td>0</td>\n",
       "      <td>0</td>\n",
       "      <td>1</td>\n",
       "      <td>...</td>\n",
       "      <td>0</td>\n",
       "      <td>0</td>\n",
       "      <td>0</td>\n",
       "      <td>0</td>\n",
       "      <td>0</td>\n",
       "      <td>0</td>\n",
       "      <td>0</td>\n",
       "      <td>0</td>\n",
       "      <td>0</td>\n",
       "      <td>5</td>\n",
       "    </tr>\n",
       "    <tr>\n",
       "      <th>6</th>\n",
       "      <td>0</td>\n",
       "      <td>0</td>\n",
       "      <td>0</td>\n",
       "      <td>0</td>\n",
       "      <td>0</td>\n",
       "      <td>0</td>\n",
       "      <td>0</td>\n",
       "      <td>0</td>\n",
       "      <td>0</td>\n",
       "      <td>1</td>\n",
       "      <td>...</td>\n",
       "      <td>0</td>\n",
       "      <td>0</td>\n",
       "      <td>0</td>\n",
       "      <td>0</td>\n",
       "      <td>0</td>\n",
       "      <td>1</td>\n",
       "      <td>0</td>\n",
       "      <td>0</td>\n",
       "      <td>0</td>\n",
       "      <td>4</td>\n",
       "    </tr>\n",
       "    <tr>\n",
       "      <th>7</th>\n",
       "      <td>0</td>\n",
       "      <td>0</td>\n",
       "      <td>0</td>\n",
       "      <td>0</td>\n",
       "      <td>0</td>\n",
       "      <td>1</td>\n",
       "      <td>1</td>\n",
       "      <td>0</td>\n",
       "      <td>0</td>\n",
       "      <td>1</td>\n",
       "      <td>...</td>\n",
       "      <td>0</td>\n",
       "      <td>0</td>\n",
       "      <td>0</td>\n",
       "      <td>0</td>\n",
       "      <td>0</td>\n",
       "      <td>0</td>\n",
       "      <td>0</td>\n",
       "      <td>0</td>\n",
       "      <td>0</td>\n",
       "      <td>1</td>\n",
       "    </tr>\n",
       "    <tr>\n",
       "      <th>8</th>\n",
       "      <td>0</td>\n",
       "      <td>0</td>\n",
       "      <td>0</td>\n",
       "      <td>0</td>\n",
       "      <td>0</td>\n",
       "      <td>0</td>\n",
       "      <td>0</td>\n",
       "      <td>0</td>\n",
       "      <td>0</td>\n",
       "      <td>1</td>\n",
       "      <td>...</td>\n",
       "      <td>0</td>\n",
       "      <td>0</td>\n",
       "      <td>0</td>\n",
       "      <td>0</td>\n",
       "      <td>0</td>\n",
       "      <td>0</td>\n",
       "      <td>0</td>\n",
       "      <td>0</td>\n",
       "      <td>0</td>\n",
       "      <td>5</td>\n",
       "    </tr>\n",
       "    <tr>\n",
       "      <th>9</th>\n",
       "      <td>0</td>\n",
       "      <td>0</td>\n",
       "      <td>0</td>\n",
       "      <td>0</td>\n",
       "      <td>0</td>\n",
       "      <td>0</td>\n",
       "      <td>0</td>\n",
       "      <td>0</td>\n",
       "      <td>0</td>\n",
       "      <td>1</td>\n",
       "      <td>...</td>\n",
       "      <td>0</td>\n",
       "      <td>0</td>\n",
       "      <td>0</td>\n",
       "      <td>0</td>\n",
       "      <td>0</td>\n",
       "      <td>0</td>\n",
       "      <td>0</td>\n",
       "      <td>1</td>\n",
       "      <td>0</td>\n",
       "      <td>3</td>\n",
       "    </tr>\n",
       "  </tbody>\n",
       "</table>\n",
       "<p>10 rows × 21 columns</p>\n",
       "</div>"
      ],
      "text/plain": [
       "   Gender  Unknown  Action  Adventure  Animation  Childrens  Comedy  Crime  \\\n",
       "0       0        0       0          0          1          1       1      0   \n",
       "1       0        0       1          1          0          0       0      0   \n",
       "2       0        0       0          0          0          0       0      0   \n",
       "3       0        0       1          0          0          0       1      0   \n",
       "4       0        0       0          0          0          0       0      1   \n",
       "5       0        0       0          0          0          0       0      0   \n",
       "6       0        0       0          0          0          0       0      0   \n",
       "7       0        0       0          0          0          1       1      0   \n",
       "8       0        0       0          0          0          0       0      0   \n",
       "9       0        0       0          0          0          0       0      0   \n",
       "\n",
       "   Documentary  Drama   ...    FilmNoir  Horror  Musical  Mystery  Romance  \\\n",
       "0            0      0   ...           0       0        0        0        0   \n",
       "1            0      0   ...           0       0        0        0        0   \n",
       "2            0      0   ...           0       0        0        0        0   \n",
       "3            0      1   ...           0       0        0        0        0   \n",
       "4            0      1   ...           0       0        0        0        0   \n",
       "5            0      1   ...           0       0        0        0        0   \n",
       "6            0      1   ...           0       0        0        0        0   \n",
       "7            0      1   ...           0       0        0        0        0   \n",
       "8            0      1   ...           0       0        0        0        0   \n",
       "9            0      1   ...           0       0        0        0        0   \n",
       "\n",
       "   SciFi  Thriller  War  Western  Rating  \n",
       "0      0         0    0        0       5  \n",
       "1      0         1    0        0       3  \n",
       "2      0         1    0        0       4  \n",
       "3      0         0    0        0       3  \n",
       "4      0         1    0        0       3  \n",
       "5      0         0    0        0       5  \n",
       "6      1         0    0        0       4  \n",
       "7      0         0    0        0       1  \n",
       "8      0         0    0        0       5  \n",
       "9      0         0    1        0       3  \n",
       "\n",
       "[10 rows x 21 columns]"
      ]
     },
     "execution_count": 9,
     "metadata": {},
     "output_type": "execute_result"
    }
   ],
   "source": [
    "# Run the following SQL to get data from table Fulldata \n",
    "#\n",
    "# select \n",
    "#     Case full1.Gender when 'M' then 0 when 'F' then 1 end as Gender,\n",
    "#     unknown, Action, \n",
    "#     Adventure, Animation, Childrens,\n",
    "#     omedy, Crime, Documentary, Drama,\n",
    "#     Fantasy, Film-Noir, Horror, Musical, \n",
    "#     Mystery, Romance, Sci-Fi, Thriller, War, \n",
    "#     Western,\n",
    "#     full1.Rating  as Rating             \n",
    "# from FullData full1 \n",
    "#  \n",
    "\n",
    "query = 'select Case full1.Gender when \"M\" then 0 when \"F\" then 1 end as Gender, '\\\n",
    "'unknown, Action, Adventure, Animation, Childrens,'\\\n",
    "'comedy, Crime, Documentary, Drama, Fantasy, FilmNoir, Horror, Musical,'\\\n",
    "'Mystery, Romance, SciFi, Thriller, War,Western '\\\n",
    "' , full1.Rating as Rating from FullData full1 '  \n",
    " \n",
    "\n",
    "GenderGenreRating = (sql.read_sql_query(query, cnx))\n",
    " \n",
    "GenderGenreRating.head(10)"
   ]
  },
  {
   "cell_type": "code",
   "execution_count": 10,
   "metadata": {
    "collapsed": false
   },
   "outputs": [
    {
     "name": "stdout",
     "output_type": "stream",
     "text": [
      "Optimization terminated successfully.\n",
      "         Current function value: 0.571605\n",
      "         Iterations 5\n",
      "                           Logit Regression Results                           \n",
      "==============================================================================\n",
      "Dep. Variable:                 Gender   No. Observations:               100000\n",
      "Model:                          Logit   Df Residuals:                    99980\n",
      "Method:                           MLE   Df Model:                           19\n",
      "Date:                Mon, 12 Sep 2016   Pseudo R-squ.:               -0.002253\n",
      "Time:                        10:47:32   Log-Likelihood:                -57160.\n",
      "converged:                       True   LL-Null:                       -57032.\n",
      "                                        LLR p-value:                     1.000\n",
      "===============================================================================\n",
      "                  coef    std err          z      P>|z|      [95.0% Conf. Int.]\n",
      "-------------------------------------------------------------------------------\n",
      "Unknown        -0.9004      0.793     -1.135      0.256        -2.455     0.654\n",
      "Action         -0.3883      0.022    -17.826      0.000        -0.431    -0.346\n",
      "Adventure      -0.1421      0.026     -5.422      0.000        -0.193    -0.091\n",
      "Animation      -0.2998      0.049     -6.067      0.000        -0.397    -0.203\n",
      "Childrens       0.1590      0.035      4.487      0.000         0.090     0.228\n",
      "Comedy         -0.3769      0.018    -21.265      0.000        -0.412    -0.342\n",
      "Crime          -0.2461      0.029     -8.505      0.000        -0.303    -0.189\n",
      "Documentary    -0.5251      0.086     -6.105      0.000        -0.694    -0.356\n",
      "Drama          -0.2459      0.018    -13.976      0.000        -0.280    -0.211\n",
      "Fantasy        -0.0813      0.066     -1.237      0.216        -0.210     0.048\n",
      "FilmNoir       -0.2998      0.062     -4.862      0.000        -0.421    -0.179\n",
      "Horror         -0.4375      0.035    -12.599      0.000        -0.506    -0.369\n",
      "Musical        -0.1177      0.037     -3.179      0.001        -0.190    -0.045\n",
      "Mystery        -0.0875      0.035     -2.511      0.012        -0.156    -0.019\n",
      "Romance         0.1681      0.018      9.182      0.000         0.132     0.204\n",
      "SciFi          -0.2971      0.026    -11.589      0.000        -0.347    -0.247\n",
      "Thriller       -0.2648      0.020    -12.948      0.000        -0.305    -0.225\n",
      "War            -0.1588      0.027     -5.845      0.000        -0.212    -0.106\n",
      "Western        -0.4750      0.060     -7.960      0.000        -0.592    -0.358\n",
      "Rating         -0.1554      0.005    -33.438      0.000        -0.164    -0.146\n",
      "===============================================================================\n"
     ]
    }
   ],
   "source": [
    "# Run the logistic regression  using the package statsmodels \n",
    "#  \n",
    "#  Dependant column is Gender  (its set to 0 or 1)\n",
    "#\n",
    "##\n",
    "#  Note  Male = 0 ,  Female = 1\n",
    "##\n",
    "\n",
    "train_cols = GenderGenreRating.columns[1:]\n",
    "\n",
    "logit = sm.Logit(GenderGenreRating['Gender'], GenderGenreRating[train_cols])\n",
    "result = logit.fit()\n",
    "print result.summary()"
   ]
  },
  {
   "cell_type": "code",
   "execution_count": 11,
   "metadata": {
    "collapsed": false
   },
   "outputs": [
    {
     "name": "stdout",
     "output_type": "stream",
     "text": [
      "                    0         1\n",
      "Unknown     -2.455135  0.654391\n",
      "Action      -0.430971 -0.345589\n",
      "Adventure   -0.193434 -0.090719\n",
      "Animation   -0.396666 -0.202948\n",
      "Childrens    0.089570  0.228491\n",
      "Comedy      -0.411640 -0.342163\n",
      "Crime       -0.302770 -0.189360\n",
      "Documentary -0.693623 -0.356488\n",
      "Drama       -0.280381 -0.211413\n",
      "Fantasy     -0.210218  0.047560\n",
      "FilmNoir    -0.420699 -0.178976\n",
      "Horror      -0.505553 -0.369431\n",
      "Musical     -0.190247 -0.045132\n",
      "Mystery     -0.155776 -0.019195\n",
      "Romance      0.132246  0.204021\n",
      "SciFi       -0.347384 -0.246879\n",
      "Thriller    -0.304875 -0.224712\n",
      "War         -0.212028 -0.105537\n",
      "Western     -0.591990 -0.358064\n",
      "Rating      -0.164484 -0.146270\n"
     ]
    }
   ],
   "source": [
    "# print the confidence interval of each coeffecient \n",
    "print result.conf_int() \n"
   ]
  },
  {
   "cell_type": "code",
   "execution_count": null,
   "metadata": {
    "collapsed": true
   },
   "outputs": [],
   "source": []
  }
 ],
 "metadata": {
  "anaconda-cloud": {},
  "celltoolbar": "Raw Cell Format",
  "kernelspec": {
   "display_name": "Python [Root]",
   "language": "python",
   "name": "Python [Root]"
  },
  "language_info": {
   "codemirror_mode": {
    "name": "ipython",
    "version": 2
   },
   "file_extension": ".py",
   "mimetype": "text/x-python",
   "name": "python",
   "nbconvert_exporter": "python",
   "pygments_lexer": "ipython2",
   "version": "2.7.12"
  }
 },
 "nbformat": 4,
 "nbformat_minor": 0
}
