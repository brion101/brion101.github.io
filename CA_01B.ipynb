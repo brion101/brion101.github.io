{
 "cells": [
  {
   "cell_type": "markdown",
   "metadata": {
    "collapsed": true
   },
   "source": [
    "Name       : Brion Mallon\n",
    "\n",
    "Student no : 1756894 \n",
    "\n",
    "C A 1 B    : Write 4 optomise functions and test these against 2 forulas \n",
    "\n",
    "Input      :  \n",
    "\n",
    "Process    : Apply the following actions \n",
    "\n",
    "           - Create four optomise functions for following\n",
    "                1) random search \n",
    "                2) hillclimbing \n",
    "                3) gradient descent/ascent \n",
    "                4) Simulated annealing\n",
    "                \n",
    "           - Test each of the above functions using 2 provided functions (line functions), graph all outputs\n"
   ]
  },
  {
   "cell_type": "markdown",
   "metadata": {},
   "source": [
    "##### import any standard libraries"
   ]
  },
  {
   "cell_type": "code",
   "execution_count": 1,
   "metadata": {
    "collapsed": true
   },
   "outputs": [],
   "source": [
    "import matplotlib.pyplot as plt\n",
    "import numpy as np\n",
    "import random \n",
    "%matplotlib inline"
   ]
  },
  {
   "cell_type": "markdown",
   "metadata": {},
   "source": [
    "##### Add functions for CA_1B questions 1 and 2\n",
    "\n",
    "    1) minimise y = (x - 1)^2 (starting at x=0) \n",
    "    2) minimise y = x(x+1.5)(x-1.5)(x-2) (starting at first x=0, then separately, starting at x=1)"
   ]
  },
  {
   "cell_type": "code",
   "execution_count": 34,
   "metadata": {
    "collapsed": true
   },
   "outputs": [],
   "source": [
    "def f_Q1(x):\n",
    "    return (x-1)**2\n",
    "\n",
    "def f_Q1_slope(x):\n",
    "    return (2*x)-2\n",
    "\n",
    "def f_Q2(x):\n",
    "    return x*(x+1.5)*(x-1.5)*(x-2)\n",
    "\n",
    "def f_Q2_slope(x):\n",
    "    return 4*(x**3) - 6*(x**2) -4.5*(x)+4.5\n",
    "\n",
    "def f_Q3(x):\n",
    "    return 2*(((x+1)**3)**4)*2.1"
   ]
  },
  {
   "cell_type": "markdown",
   "metadata": {},
   "source": [
    "##### Add the 4 Optomise functions as follows\n",
    "\n",
    "1) random search \n",
    "2) hillclimbing \n",
    "3) gradient descent/ascent \n",
    "4) Simulated annealing"
   ]
  },
  {
   "cell_type": "code",
   "execution_count": 3,
   "metadata": {
    "collapsed": false
   },
   "outputs": [],
   "source": [
    "#\n",
    "#  random search function \n",
    "\n",
    "def RandSearch(func='',times=0,start=0,end=0):\n",
    "    #  This function is a random optomizing search process \n",
    "    #  it will call a requested function a given number of times and save the lowest returned Y value\n",
    "    #  inputs:\n",
    "    #      Func      = Function to call \n",
    "    #      times     = Number of instances the function shall be called\n",
    "    #      start     = start of range for the random numbers \n",
    "    #      end       = End of range for random numbers \n",
    "    #  outputs:   \n",
    "    #      list of 2 tuples containing all points searched, Also a seperate list with only the lowest value (minimum)\n",
    "    try:\n",
    "        # initialise variables\n",
    "        outlist = list()\n",
    "        \n",
    "        # set the current optomise value to highest possible (use max random value as X) \n",
    "        currentOptValue_x = end\n",
    "        currentOptValue_y = func(currentOptValue_x)\n",
    "        \n",
    "        # process all requests (number of times), \n",
    "        # each call of the function will have a random number from within the range provided \n",
    "        for i in range(times):\n",
    "            \n",
    "            # Get random number and call function to return Y value (using random number)\n",
    "            x = random.uniform(start,end)\n",
    "            y = func(x)\n",
    "            outlist.append((x,y))\n",
    "            \n",
    "            # Save the lowest value (minimum) for Y, also return this result \n",
    "            if y < currentOptValue_y:\n",
    "                currentOptValue_y = y\n",
    "                currentOptValue_x = x   \n",
    "                \n",
    "        result = [(currentOptValue_x,currentOptValue_y)]\n",
    "        return (outlist,result)\n",
    "    except:\n",
    "        print ('error in  RandSearch')\n",
    "        return \n",
    "\n",
    "#\n",
    "#    HillClimb Function  \n",
    "    \n",
    "def HillClimb(func='',start=0,steps=0.0):\n",
    "    #  This function is a bidirectional hillclimp (minimise) optomise search process \n",
    "    #  inputs:\n",
    "    #      Func      = Function to call \n",
    "    #      start     = start position for hillclimb (decent)\n",
    "    #      step      = number to move forward \n",
    "    #  outputs:   \n",
    "    #      list of 2 tuples containing all points searched, Also a seperate list with only the lowest value (minimum)\n",
    "    try:\n",
    "        # initialise variables\n",
    "        outlist     = list()\n",
    "        currentlist = list()\n",
    "        step        = steps   \n",
    "        currentpos  = start\n",
    "        nextX       = 0.0\n",
    "        nextY       = 0.0\n",
    "        calcpos     = 0.0\n",
    "        #\n",
    "        #  Determine if decend to left or right (get current Y, then test against negbhours)\n",
    "        #  \n",
    "        currentlist.append((currentpos,func(currentpos)))\n",
    "        nextX = currentpos + step\n",
    "        nextY = func(nextX)\n",
    "        \n",
    "        \n",
    "        # if the Next Y is > current Y then must go left (make the Step value a minus for reverse search)\n",
    "        if nextY > currentlist[0][1]:\n",
    "            nextX = currentpos - step\n",
    "            nextY = func(nextX) \n",
    "            # convert the step into a minus of itself, this will allow for reverse stepping \n",
    "            step -= step*2 \n",
    "        \n",
    "        # add the next to the current list (this list will always have 2 entries )    \n",
    "        currentlist.append((nextX,nextY))\n",
    "        \n",
    "         # Now that the direction has been determined, search until (local) minimum is found\n",
    "        while True:\n",
    "            # Save current to final list\n",
    "            outlist.append(currentlist[0])\n",
    "        \n",
    "            # Test if minimum point reached  (current Y value < next Y value) \n",
    "            if currentlist[0][1]  < currentlist[1][1]:\n",
    "                result = [(currentlist[0][0],currentlist[0][1])]\n",
    "                return(outlist,result)\n",
    "   \n",
    "            # Make next Y the current Y and then get next Y  (drop the current Y from the list, then append next Y from function)\n",
    "            currentpos += step\n",
    "            del currentlist[0]\n",
    "            calcpos = currentpos + step\n",
    "            nextY = func(calcpos)\n",
    "            currentlist.append((calcpos,nextY))\n",
    "    except:\n",
    "        print ('error in HillClimb')\n",
    "        return \n",
    "    \n",
    "\n",
    "def  GradientDecent(Curvefunc='' ,SlopeFunc='' , start=0, steps=0):\n",
    "    #start= 0, gamma = 0.002, precision = 0.00001\n",
    "    #  This function is a Gradient descent (minimise) optomise search process \n",
    "    #  inputs:\n",
    "    #      CurveFunc =  curve Function to call \n",
    "    #      Func      =  slope Function to call \n",
    "    #      start     = start position for graident descent \n",
    "    #      step      = number to move forward \n",
    "    #  outputs:   \n",
    "    #      list of 2 tuples containing all points searched, Also a seperate list with only the lowest value (minimum)\n",
    "    try:\n",
    "        # initialise variables\n",
    "        outlist     = list()\n",
    "        step        = steps   \n",
    "        nextX       = 0.0\n",
    "        nextY       = 0.0\n",
    "        currentX    = start\n",
    "        currentY    = 0.0\n",
    "        \n",
    "        # Get Y for current X\n",
    "        currentY = Curvefunc(currentX)\n",
    "        \n",
    "        #Get next X and Y\n",
    "        nextX = currentX - (step * SlopeFunc(currentX))\n",
    "        nextY = Curvefunc(nextX)\n",
    "        \n",
    "        # loop until gradient starts to accend)\n",
    "        while (currentY > nextY ):\n",
    "            outlist.append((currentX,currentY))\n",
    "            currentX = nextX\n",
    "            currentY = nextY\n",
    "            nextX = currentX - step * SlopeFunc(currentX)    \n",
    "            nextY = Curvefunc(nextX)\n",
    "        result = [(currentX,currentY)]\n",
    "        return(outlist,result) \n",
    " \n",
    "    except:\n",
    "        print ('error in GradientDecent ')\n",
    "        return \n",
    "\n",
    "#\n",
    "#  Sim Annealing function \n",
    "\n",
    "def Sim_Annealing(func='',times=0,start=0,end=0):\n",
    "    #  This function is Sim Annealing search process \n",
    "    #  it will call a requested function a given number of times and save the lowest returned Y value\n",
    "    #  inputs:\n",
    "    #      Func      = Function to call \n",
    "    #      times     = Number of instances the function shall be called\n",
    "    #      start     = start of range for the random numbers \n",
    "    #      end       = End of range for random numbers \n",
    "    #  outputs:   \n",
    "    #      list of 2 tuples containing all points searched, Also a seperate list with only the lowest value (minimum)\n",
    "    try:\n",
    "        old_X = random.uniform(start,end)\n",
    "        old_Y = func(old_X)\n",
    "        min_X = old_X\n",
    "        min_Y = old_Y\n",
    "        Temp = 1.0\n",
    "        Temp_min = 0.0001\n",
    "        step = 0.9\n",
    "        e=2.71828\n",
    "        outlist=list()\n",
    "        #\n",
    "        #  Main body of code , loop until T is minimised \n",
    "        #\n",
    "        while Temp > Temp_min:\n",
    "            i = 1\n",
    "            while i <= times:\n",
    "                # save current points  \n",
    "                outlist.append((old_X,old_Y))\n",
    "                new_X = random.uniform(start,end)\n",
    "                new_Y = func(new_X) \n",
    "                \n",
    "                #calculate acceptance probability \n",
    "                ap = e  * (old_Y - new_Y) / Temp\n",
    "                num = random.uniform(start,end)\n",
    "                       \n",
    "                if ap > num:\n",
    "                    old_X = new_X\n",
    "                    old_Y = new_Y\n",
    "                if new_Y < min_Y:\n",
    "                    min_X = new_X\n",
    "                    min_Y = new_Y\n",
    "                i += 1\n",
    "            Temp = Temp*step\n",
    "        return (outlist,[(min_X,min_Y)])\n",
    "    except:\n",
    "        print ('error in Sim_Annealing')\n",
    "        return \n",
    "\n"
   ]
  },
  {
   "cell_type": "markdown",
   "metadata": {},
   "source": [
    "##### Add general purpose functions "
   ]
  },
  {
   "cell_type": "code",
   "execution_count": 4,
   "metadata": {
    "collapsed": false
   },
   "outputs": [],
   "source": [
    "def PlotFuncScatter(baselist,pointlist,result,axis,title):\n",
    "    #  This function actions a specific set of plotting functions \n",
    "    #  inputs:\n",
    "    #      lists containing points for scatter plotting ( required for random )\n",
    "    #  outputs:   \n",
    "    #      a plot\n",
    "    try:\n",
    "        plt.axis(axis)\n",
    "        plt.plot(*zip(*baselist),color='b')\n",
    "        plt.scatter(*zip(*pointlist),marker='*',color='r')\n",
    "        plt.plot(*zip(*result),color='b',marker='8',ms=12)\n",
    "        plt.title=(title)\n",
    "        plt.show()\n",
    "    except:\n",
    "        print ('error in PlotFuncScatter')\n",
    "        return \n",
    "    \n",
    "def PlotFuncLine(baselist,pointlist,result,axis,title):\n",
    "    #  This function actions a specific set of plotting functions\n",
    "    #  inputs:\n",
    "    #      lists containing points for plotting \n",
    "    #  outputs:   \n",
    "    #      a plot\n",
    "    try:\n",
    "        plt.axis(axis)\n",
    "        plt.plot(*zip(*baselist),color='b')\n",
    "        plt.plot(*zip(*pointlist),marker='*',color='r')\n",
    "        plt.plot(*zip(*result),color='b',marker='8',ms=12)\n",
    "        plt.title=(title)\n",
    "        plt.show()\n",
    "    except:\n",
    "        print ('error in PlotFuncLine')\n",
    "        return \n",
    "\n"
   ]
  },
  {
   "cell_type": "markdown",
   "metadata": {},
   "source": [
    "##### Call the random optomise function for questions 1 and 2 \n",
    "\n",
    "all plots contain  a) a baseline of the function  b) all points searched  c) the minimum (highlighted)\n",
    "        "
   ]
  },
  {
   "cell_type": "code",
   "execution_count": 5,
   "metadata": {
    "collapsed": false
   },
   "outputs": [
    {
     "name": "stdout",
     "output_type": "stream",
     "text": [
      "('lowest x,y for Q1 ', [(1.03549276359584, 0.0012597362676701831)])\n"
     ]
    },
    {
     "data": {
      "image/png": "[encoded data removed]",
      "text/plain": [
       "<matplotlib.figure.Figure at 0x40805f8>"
      ]
     },
     "metadata": {},
     "output_type": "display_data"
    }
   ],
   "source": [
    "# Call random optomise function using Question 1 function \n",
    "pointlist,result  = RandSearch(f_Q1,100,0,20)\n",
    "print('lowest x,y for Q1 ', result)\n",
    "\n",
    "# Plot the results for random Q1 , first, create a baseline plot\n",
    "baselist = [(x,f_Q1(x)) for x in range(-5,20)]\n",
    "axis=[-5,10,-10,20]\n",
    "title='Question 1 Random function'\n",
    "PlotFuncScatter(baselist,pointlist,result,axis,title) "
   ]
  },
  {
   "cell_type": "code",
   "execution_count": 6,
   "metadata": {
    "collapsed": false
   },
   "outputs": [
    {
     "name": "stdout",
     "output_type": "stream",
     "text": [
      "('lowest x,y for Q2 start at 0 ', [(1.8183169471650062, -0.34894873746140914)])\n"
     ]
    },
    {
     "data": {
      "image/png": "[encoded data removed]",
      "text/plain": [
       "<matplotlib.figure.Figure at 0x74935c0>"
      ]
     },
     "metadata": {},
     "output_type": "display_data"
    },
    {
     "name": "stdout",
     "output_type": "stream",
     "text": [
      "('lowest x,y for Q2 start at 1 ', [(2.0758929801322537, 0.32443885836311787)])\n"
     ]
    },
    {
     "data": {
      "image/png": "[encoded data removed]",
      "text/plain": [
       "<matplotlib.figure.Figure at 0x7e9e048>"
      ]
     },
     "metadata": {},
     "output_type": "display_data"
    }
   ],
   "source": [
    "#Call random optomise function using Question 2 function with start value 0\n",
    "#\n",
    "pointlist,result  = RandSearch(f_Q2,100,0,20)\n",
    "print('lowest x,y for Q2 start at 0 ', result)\n",
    "\n",
    "# Plot the results for random Q2  , first, create a baseline plot\n",
    "baselist = [(x,f_Q2(x)) for x in range(-5,10)]\n",
    "axis=[-5,20,-20,400]\n",
    "title='Question 2 Random function Value 0'\n",
    "PlotFuncScatter(baselist,pointlist,result,axis,title) \n",
    "\n",
    " \n",
    "#Call random optomise function using Question 2 function with start value 1\n",
    "pointlist,result  = RandSearch(f_Q2,100,1,20) \n",
    "print('lowest x,y for Q2 start at 1 ', result)\n",
    "\n",
    "## Plot the results for random Q2  , first, create a baseline plot\n",
    "baselist = [(x,f_Q2(x)) for x in range(-5,10)]\n",
    "axis=[-5,20,-20,400]\n",
    "title='Question 2 Random function Value 1'\n",
    "PlotFuncScatter(baselist,pointlist,result,axis,title) "
   ]
  },
  {
   "cell_type": "markdown",
   "metadata": {},
   "source": [
    "##### Call the hillclimb function for questions 1 and 2 \n",
    "\n",
    "\n",
    "all plots contain \n",
    "a) a baseline of the function\n",
    "b) all points searched\n",
    "c) the minimum (highlighted)\n"
   ]
  },
  {
   "cell_type": "code",
   "execution_count": 7,
   "metadata": {
    "collapsed": false
   },
   "outputs": [
    {
     "name": "stdout",
     "output_type": "stream",
     "text": [
      "('HillClimb lowest x,y for Q1 forward start at 0 ', [(0.9999999999999999, 1.232595164407831e-32)])\n"
     ]
    },
    {
     "data": {
      "image/png": "[encoded data removed]",
      "text/plain": [
       "<matplotlib.figure.Figure at 0x72107b8>"
      ]
     },
     "metadata": {},
     "output_type": "display_data"
    }
   ],
   "source": [
    "# Call hillclimb optomise function using Question 1 function \n",
    "\n",
    "pointlist,result  = HillClimb(f_Q1,0,.1)\n",
    "print('HillClimb lowest x,y for Q1 forward start at 0 ', result)\n",
    "\n",
    "## lot the results for HillClimb Q1 , first, create a baseline plot\n",
    "baselist = [(x,f_Q1(x)) for x in range(-1,5)]\n",
    "axis=[-2,6,-2,10]\n",
    "title='Question 1 HillClimb function start at 0'\n",
    "PlotFuncLine(baselist,pointlist,result,axis,title) "
   ]
  },
  {
   "cell_type": "code",
   "execution_count": 8,
   "metadata": {
    "collapsed": false
   },
   "outputs": [
    {
     "name": "stdout",
     "output_type": "stream",
     "text": [
      "('HillClimb lowest x,y for Q2 start at 0 ', [(-0.8999999999999999, -3.7584)])\n"
     ]
    },
    {
     "data": {
      "image/png": "[encoded data removed]",
      "text/plain": [
       "<matplotlib.figure.Figure at 0x72106d8>"
      ]
     },
     "metadata": {},
     "output_type": "display_data"
    },
    {
     "name": "stdout",
     "output_type": "stream",
     "text": [
      "('HillClimb lowest x,y for Q2 start at 1', [(1.8000000000000007, -0.35639999999999983)])\n"
     ]
    },
    {
     "data": {
      "image/png": "[encoded data removed]",
      "text/plain": [
       "<matplotlib.figure.Figure at 0x7210668>"
      ]
     },
     "metadata": {},
     "output_type": "display_data"
    }
   ],
   "source": [
    "# Call hillclimb optomise function using Question 2 function \n",
    "\n",
    "# function call starting at 0\n",
    "pointlist,result  = HillClimb(f_Q2,0,0.1)\n",
    "print('HillClimb lowest x,y for Q2 start at 0 ', result)\n",
    "\n",
    "## plot the results for HillClimb Q2 start at 0, first, create a baseline plot\n",
    "baselist = [(x,f_Q2(x)) for x in range(-10,20)]\n",
    "axis=[-5,6,-5,20]\n",
    "title='Question 2 HillClimb function start at 0'\n",
    "PlotFuncLine(baselist,pointlist,result,axis,title) \n",
    "\n",
    "\n",
    "# function call starting at 1\n",
    "pointlist,result  = HillClimb(f_Q2,1,0.1)\n",
    "print('HillClimb lowest x,y for Q2 start at 1', result)\n",
    "\n",
    "## plot the results for HillClimb Q2 start at 1, first, create a baseline plot\n",
    "baselist = [(x,f_Q2(x)) for x in range(-10,20)]\n",
    "axis=[-5,6,-5,20]\n",
    "title='Question 2 HillClimb function start at 1'\n",
    "PlotFuncLine(baselist,pointlist,result,axis,title) "
   ]
  },
  {
   "cell_type": "markdown",
   "metadata": {
    "collapsed": false
   },
   "source": [
    "##### Call the Gradient Descent for questions 1 and 2 \n",
    "\n",
    "all plots contain \n",
    "a) a baseline of the function\n",
    "b) all points searched\n",
    "c) the minimum (highlighted)"
   ]
  },
  {
   "cell_type": "code",
   "execution_count": 9,
   "metadata": {
    "collapsed": false
   },
   "outputs": [
    {
     "name": "stdout",
     "output_type": "stream",
     "text": [
      "('Gradient lowest x,y for Q1 ', [(1.0000000000000009, 7.888609052210118e-31)])\n"
     ]
    },
    {
     "data": {
      "image/png": "[encoded data removed]",
      "text/plain": [
       "<matplotlib.figure.Figure at 0x6b116a0>"
      ]
     },
     "metadata": {},
     "output_type": "display_data"
    }
   ],
   "source": [
    "# Call Gradient Descent  function using Question 1 function \n",
    "pointlist,result = GradientDecent(f_Q1,f_Q1_slope,4,.05)\n",
    "print('Gradient lowest x,y for Q1 ', result)\n",
    "\n",
    "# Plot the results, first, create a baseline plot\n",
    "baselist = [(x,f_Q1(x)) for x in range(-5,10)]\n",
    "axis=[-5,5,-1,5]\n",
    "\n",
    "title='Question 1 Gradient Descent '\n",
    "PlotFuncLine(baselist,pointlist,result,axis,title) \n"
   ]
  },
  {
   "cell_type": "code",
   "execution_count": 10,
   "metadata": {
    "collapsed": false
   },
   "outputs": [
    {
     "name": "stdout",
     "output_type": "stream",
     "text": [
      "('Gradient lowest x,y for Q2 start at 0 ', [(-0.9460648948109964, -3.7765053180021564)])\n"
     ]
    },
    {
     "data": {
      "image/png": "[encoded data removed]",
      "text/plain": [
       "<matplotlib.figure.Figure at 0x7201ac8>"
      ]
     },
     "metadata": {},
     "output_type": "display_data"
    },
    {
     "name": "stdout",
     "output_type": "stream",
     "text": [
      "('Gradient lowest x,y for Q2 start at 1', [(1.7768123850991029, -0.35970689089653773)])\n"
     ]
    },
    {
     "data": {
      "image/png": "[encoded data removed]",
      "text/plain": [
       "<matplotlib.figure.Figure at 0x86656d8>"
      ]
     },
     "metadata": {},
     "output_type": "display_data"
    }
   ],
   "source": [
    " # Call Gradient descent function using Question 2 function \n",
    "\n",
    "# function call starting at 0\n",
    "pointlist,result = GradientDecent(f_Q2,f_Q2_slope,0,.02)\n",
    "\n",
    "print('Gradient lowest x,y for Q2 start at 0 ', result)\n",
    "\n",
    "## plot the results for Gradient Q2 start at 0, first, create a baseline plot\n",
    "baselist = [(x,f_Q2(x)) for x in range(-10,20)]\n",
    "axis=[-5,6,-5,20]\n",
    "title='Question 2 Gradient function start at 0'\n",
    "PlotFuncLine(baselist,pointlist,result,axis,title) \n",
    "\n",
    "\n",
    "# function call starting at 1\n",
    "pointlist,result = GradientDecent(f_Q2,f_Q2_slope,1,.05)\n",
    "print('Gradient lowest x,y for Q2 start at 1', result)\n",
    "\n",
    "## plot the results for Gradient Q2 start at 1, first, create a baseline plot\n",
    "baselist = [(x,f_Q2(x)) for x in range(-10,20)]\n",
    "axis=[-5,6,-5,20]\n",
    "title='Question 2 Gradient function start at 1'\n",
    "PlotFuncLine(baselist,pointlist,result,axis,title) "
   ]
  },
  {
   "cell_type": "markdown",
   "metadata": {
    "collapsed": true
   },
   "source": [
    "##### Call the Sim Annealing function for questions 1 and 2 \n",
    "\n",
    "all plots contain \n",
    "a) a baseline of the function\n",
    "b) all points searched\n",
    "c) the minimum (highlighted)"
   ]
  },
  {
   "cell_type": "code",
   "execution_count": 37,
   "metadata": {
    "collapsed": false
   },
   "outputs": [
    {
     "name": "stdout",
     "output_type": "stream",
     "text": [
      "('Sim Annealing for Q1 ', [(1.0000228236914506, 5.20920891430759e-10)])\n"
     ]
    },
    {
     "data": {
      "image/png": "[encoded data removed]",
      "text/plain": [
       "<matplotlib.figure.Figure at 0x72019e8>"
      ]
     },
     "metadata": {},
     "output_type": "display_data"
    }
   ],
   "source": [
    "# Call Annealing function using Question 1 function \n",
    "\n",
    "pointlist,result  = Sim_Annealing(f_Q1,500,-3,5)\n",
    "\n",
    "print('Sim Annealing for Q1 ', result)\n",
    "\n",
    "# Plot the results, first, create a baseline plot\n",
    "baselist = [(x,f_Q1(x)) for x in range(-5,10)]\n",
    "axis=[-5,5,-1,5]\n",
    "\n",
    "title='Sim Annealing for Q1'\n",
    "PlotFuncLine(baselist,pointlist,result,axis,title) "
   ]
  },
  {
   "cell_type": "code",
   "execution_count": 21,
   "metadata": {
    "collapsed": false
   },
   "outputs": [
    {
     "name": "stdout",
     "output_type": "stream",
     "text": [
      "('Sim Annealing for Q2 ', [(-0.9459936715038033, -3.7765052733655122)])\n"
     ]
    },
    {
     "data": {
      "image/png": "[encoded data removed]",
      "text/plain": [
       "<matplotlib.figure.Figure at 0x84f40b8>"
      ]
     },
     "metadata": {},
     "output_type": "display_data"
    }
   ],
   "source": [
    "# Call Annealing function using Question 2 function \n",
    "\n",
    "pointlist,result  = Sim_Annealing(f_Q2,500,-3,4)\n",
    "\n",
    "print('Sim Annealing for Q2 ', result)\n",
    "\n",
    "# Plot the results, first, create a baseline plot\n",
    "baselist = [(x,f_Q2(x)) for x in range(-5,10)]\n",
    "axis=[-5,5,-5,5]\n",
    "\n",
    "title='Sim Annealing for Q2'\n",
    "PlotFuncLine(baselist,pointlist,result,axis,title) "
   ]
  },
  {
   "cell_type": "code",
   "execution_count": null,
   "metadata": {
    "collapsed": true
   },
   "outputs": [],
   "source": []
  }
 ],
 "metadata": {
  "anaconda-cloud": {},
  "kernelspec": {
   "display_name": "Python [Root]",
   "language": "python",
   "name": "Python [Root]"
  },
  "language_info": {
   "codemirror_mode": {
    "name": "ipython",
    "version": 2
   },
   "file_extension": ".py",
   "mimetype": "text/x-python",
   "name": "python",
   "nbconvert_exporter": "python",
   "pygments_lexer": "ipython2",
   "version": "2.7.12"
  }
 },
 "nbformat": 4,
 "nbformat_minor": 0
}
