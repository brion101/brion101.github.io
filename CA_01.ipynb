{
 "cells": [
  {
   "cell_type": "markdown",
   "metadata": {},
   "source": [
    "Name       : Brion Mallon\n",
    "\n",
    "C A 1      : \n",
    "\n",
    "Input      : Use a songs metadata file contains a 10,000 record subset of http://labrosa.ee.columbia.edu/millionsong/\n",
    "             List all files here\n",
    "\n",
    "Process    : Apply the following actions \n",
    "\n",
    "           - Review the csv files for Data and Web mining Ca \n",
    "\n",
    "Songs file : this file contains 10,000 entries with track, artist, year and other attributes  \n"
   ]
  },
  {
   "cell_type": "markdown",
   "metadata": {},
   "source": [
    "Start By importing required packages, get input songs file "
   ]
  },
  {
   "cell_type": "code",
   "execution_count": 1,
   "metadata": {
    "collapsed": false
   },
   "outputs": [],
   "source": [
    "%matplotlib inline\n",
    "import matplotlib as plt\n",
    "import pandas as pd\n",
    "import sqlite3 as db\n",
    "from pandas.io import sql\n",
    "# Create your connection.\n",
    "cnx = db.connect(':memory:')    # this ensure sqlite tables stay in memory"
   ]
  },
  {
   "cell_type": "markdown",
   "metadata": {},
   "source": [
    "##### There are currently 4 metafiles , read these for examination \n",
    "\n",
    "\n",
    "###### Files \n",
    "            -- songs.csv\n",
    "            -- artist_tag.csv  \n",
    "            -- artist_location.csv  \n",
    "            -- artist_artist_similarty.csv \n",
    " \n",
    " ###### Steps\n",
    " 1. read all files into Dataframes \n",
    " 2. Copy the dataframes into SQLlite3 as tables, from here they can be examined using SQL\n",
    " 3. If required, save any changes and rewrite csv files\n",
    "       "
   ]
  },
  {
   "cell_type": "markdown",
   "metadata": {},
   "source": [
    "\n",
    "First step ,  read all csv files "
   ]
  },
  {
   "cell_type": "code",
   "execution_count": 2,
   "metadata": {
    "collapsed": false
   },
   "outputs": [],
   "source": [
    "songs = pd.read_csv(\"songs.csv\", encoding='ISO-8859-1', dtype={'artist_familiarity': float,'artist_hotttnesss': float, 'year': int})  \n",
    "\n",
    "artist_tag = pd.read_csv(\"artist_tag.csv\" , encoding='ISO-8859-1') \n",
    "\n",
    "artist_location = pd.read_csv(\"artist_location.csv\"  ,encoding='ISO-8859-1' , dtype={'Latitude': float,'Longitude': float})  \n",
    "\n",
    "artist_artist_similarty = pd.read_csv(\"artist_artist_similarty.csv\" , encoding='ISO-8859-1') \n"
   ]
  },
  {
   "cell_type": "markdown",
   "metadata": {},
   "source": [
    "Now, add all above file to a sqllite database"
   ]
  },
  {
   "cell_type": "code",
   "execution_count": 3,
   "metadata": {
    "collapsed": false
   },
   "outputs": [],
   "source": [
    "# write out all Dataframes, these can subsequently be read using SQL\n",
    "\n",
    "sql.to_sql(songs, name='songs', if_exists='replace', con=cnx)\n",
    "sql.to_sql(artist_tag, name='artist_tag', if_exists='replace', con=cnx)\n",
    "sql.to_sql(artist_location, name='artist_location', if_exists='replace', con=cnx)\n",
    "sql.to_sql(artist_artist_similarty, name='artist_artist_similarty', if_exists='replace', con=cnx)"
   ]
  },
  {
   "cell_type": "markdown",
   "metadata": {},
   "source": [
    "Get a count of rows for each table "
   ]
  },
  {
   "cell_type": "code",
   "execution_count": 4,
   "metadata": {
    "collapsed": false
   },
   "outputs": [
    {
     "name": "stdout",
     "output_type": "stream",
     "text": [
      "   songs count\n",
      "0        10000\n",
      "   artist_tag count\n",
      "0              3809\n",
      "   artist_location count\n",
      "0                   1402\n",
      "   artist_artist_similarty count\n",
      "0                          42969\n"
     ]
    }
   ],
   "source": [
    " print(sql.read_sql_query('select count(*) as \"songs count\" from songs', cnx))\n",
    " print(sql.read_sql_query('select count(*) as \"artist_tag count\" from artist_tag', cnx))\n",
    " print(sql.read_sql_query('select count(*) as \"artist_location count\" from artist_location', cnx))\n",
    " print(sql.read_sql_query('select count(*) as \"artist_artist_similarty count\" from artist_artist_similarty', cnx))"
   ]
  },
  {
   "cell_type": "markdown",
   "metadata": {},
   "source": [
    "So, the counts look ok. First check the songs table, select sample rows "
   ]
  },
  {
   "cell_type": "code",
   "execution_count": 5,
   "metadata": {
    "collapsed": false
   },
   "outputs": [
    {
     "data": {
      "text/html": [
       "<div>\n",
       "<table border=\"1\" class=\"dataframe\">\n",
       "  <thead>\n",
       "    <tr style=\"text-align: right;\">\n",
       "      <th></th>\n",
       "      <th>index</th>\n",
       "      <th>track_id</th>\n",
       "      <th>title</th>\n",
       "      <th>song_id</th>\n",
       "      <th>release</th>\n",
       "      <th>artist_id</th>\n",
       "      <th>artist_mbid</th>\n",
       "      <th>artist_name</th>\n",
       "      <th>duration</th>\n",
       "      <th>artist_familiarity</th>\n",
       "      <th>artist_hotttnesss</th>\n",
       "      <th>year</th>\n",
       "    </tr>\n",
       "  </thead>\n",
       "  <tbody>\n",
       "    <tr>\n",
       "      <th>0</th>\n",
       "      <td>0</td>\n",
       "      <td>TRACCVZ128F4291A8A</td>\n",
       "      <td>Deep Sea Creature</td>\n",
       "      <td>SOVLGJY12A8C13FBED</td>\n",
       "      <td>Call of the Mastodon</td>\n",
       "      <td>ARMQHX71187B9890D3</td>\n",
       "      <td>bc5e2ad6-0a4a-4d90-b911-e9a7e6861727</td>\n",
       "      <td>Mastodon</td>\n",
       "      <td>280.21506</td>\n",
       "      <td>0.780462</td>\n",
       "      <td>0.574275</td>\n",
       "      <td>2001</td>\n",
       "    </tr>\n",
       "    <tr>\n",
       "      <th>1</th>\n",
       "      <td>1</td>\n",
       "      <td>TRACCMH128F428E4CD</td>\n",
       "      <td>No Quieras Marcharte</td>\n",
       "      <td>SOGDQZK12A8C13F37C</td>\n",
       "      <td>Adelante</td>\n",
       "      <td>AR2PT4M1187FB55B1A</td>\n",
       "      <td>d54ea4a6-0b9c-4e47-bed0-289ae9ff4037</td>\n",
       "      <td>Los Chichos</td>\n",
       "      <td>191.68608</td>\n",
       "      <td>0.561590</td>\n",
       "      <td>0.420570</td>\n",
       "      <td>1984</td>\n",
       "    </tr>\n",
       "    <tr>\n",
       "      <th>2</th>\n",
       "      <td>2</td>\n",
       "      <td>TRACCSW128F148C7C3</td>\n",
       "      <td>If I...</td>\n",
       "      <td>SODMVJR12A6D4F985D</td>\n",
       "      <td>Ill Na Na</td>\n",
       "      <td>ARDI88R1187B98DAB2</td>\n",
       "      <td>fd87374e-ffde-4d36-89a8-8a073f795666</td>\n",
       "      <td>Foxy Brown</td>\n",
       "      <td>222.92853</td>\n",
       "      <td>0.687687</td>\n",
       "      <td>0.406686</td>\n",
       "      <td>0</td>\n",
       "    </tr>\n",
       "    <tr>\n",
       "      <th>3</th>\n",
       "      <td>3</td>\n",
       "      <td>TRACCXJ128F428F0CF</td>\n",
       "      <td>Werther - Lyric Drama in four Acts/Act I/Alors...</td>\n",
       "      <td>SOIWBDR12A8C13A4AC</td>\n",
       "      <td>Massenet: Werther</td>\n",
       "      <td>ARUKJUP12086C14589</td>\n",
       "      <td>8a5f2736-bcde-4a2e-8d50-72631d66a7ef</td>\n",
       "      <td>RamÃ³n Vargas;Vladimir Jurowski</td>\n",
       "      <td>278.38649</td>\n",
       "      <td>0.391741</td>\n",
       "      <td>0.291265</td>\n",
       "      <td>0</td>\n",
       "    </tr>\n",
       "    <tr>\n",
       "      <th>4</th>\n",
       "      <td>4</td>\n",
       "      <td>TRACCVS12903D014F8</td>\n",
       "      <td>Ad Te Clamamus Exsvles Mortva Liberi</td>\n",
       "      <td>SOHCCIA12AC907577F</td>\n",
       "      <td>Pentagrammaton</td>\n",
       "      <td>ARZEWUR1187FB53DC8</td>\n",
       "      <td>0be59867-0da4-4e45-9b64-728cdf25487c</td>\n",
       "      <td>Enthroned</td>\n",
       "      <td>89.15546</td>\n",
       "      <td>0.593416</td>\n",
       "      <td>0.395710</td>\n",
       "      <td>2010</td>\n",
       "    </tr>\n",
       "    <tr>\n",
       "      <th>5</th>\n",
       "      <td>5</td>\n",
       "      <td>TRACCKS128F42B77AE</td>\n",
       "      <td>Murder One</td>\n",
       "      <td>SOBOAQC12A8C13E3E9</td>\n",
       "      <td>BTNHRESURRECTION</td>\n",
       "      <td>ARUZRFN1187B98AC05</td>\n",
       "      <td>2fa45bbb-0efb-4950-9d40-94bf23cbfec1</td>\n",
       "      <td>Bone Thugs-N-Harmony</td>\n",
       "      <td>255.73832</td>\n",
       "      <td>0.815923</td>\n",
       "      <td>0.555138</td>\n",
       "      <td>2000</td>\n",
       "    </tr>\n",
       "    <tr>\n",
       "      <th>6</th>\n",
       "      <td>6</td>\n",
       "      <td>TRACCQM12903CACC1E</td>\n",
       "      <td>On My Feet Again</td>\n",
       "      <td>SOKVLHX12AB0187B39</td>\n",
       "      <td>Utopia</td>\n",
       "      <td>ARHBWOZ1187FB3FD53</td>\n",
       "      <td>e6ff2839-5ccb-451b-b07e-f485bc143118</td>\n",
       "      <td>Utopia</td>\n",
       "      <td>239.59465</td>\n",
       "      <td>0.543937</td>\n",
       "      <td>0.430300</td>\n",
       "      <td>0</td>\n",
       "    </tr>\n",
       "    <tr>\n",
       "      <th>7</th>\n",
       "      <td>7</td>\n",
       "      <td>TRACCUS128F92E1FEB</td>\n",
       "      <td>Bedroom Acoustics</td>\n",
       "      <td>SOMMSMW12A8C13FCCC</td>\n",
       "      <td>Plug In Baby</td>\n",
       "      <td>ARR3ONV1187B9A2F59</td>\n",
       "      <td>fd857293-5ab8-40de-b29e-55a69d4e4d0f</td>\n",
       "      <td>Muse</td>\n",
       "      <td>156.96934</td>\n",
       "      <td>0.929030</td>\n",
       "      <td>0.750427</td>\n",
       "      <td>0</td>\n",
       "    </tr>\n",
       "    <tr>\n",
       "      <th>8</th>\n",
       "      <td>8</td>\n",
       "      <td>TRACCJA128F149A144</td>\n",
       "      <td>Segredo</td>\n",
       "      <td>SODPNJR12A6D4FA52D</td>\n",
       "      <td>Joao Voz E Violato</td>\n",
       "      <td>AR3THYK1187B999F1F</td>\n",
       "      <td>286ec4c2-b5ca-4f85-b331-280a6d73dd14</td>\n",
       "      <td>JoÃ£o Gilberto</td>\n",
       "      <td>197.19791</td>\n",
       "      <td>0.645192</td>\n",
       "      <td>0.471224</td>\n",
       "      <td>2000</td>\n",
       "    </tr>\n",
       "    <tr>\n",
       "      <th>9</th>\n",
       "      <td>9</td>\n",
       "      <td>TRACCGB12903CD1B90</td>\n",
       "      <td>Sajana (Ft Faheem Mazhar)</td>\n",
       "      <td>SOFFLLP12AB018ED52</td>\n",
       "      <td>The Lost Souls Bonus EP</td>\n",
       "      <td>ARFELOH1187B991F95</td>\n",
       "      <td>65b785d9-499f-48e6-9063-3a1fd1bd488d</td>\n",
       "      <td>Niraj Chag</td>\n",
       "      <td>262.58240</td>\n",
       "      <td>0.495819</td>\n",
       "      <td>0.342765</td>\n",
       "      <td>0</td>\n",
       "    </tr>\n",
       "  </tbody>\n",
       "</table>\n",
       "</div>"
      ],
      "text/plain": [
       "   index            track_id  \\\n",
       "0      0  TRACCVZ128F4291A8A   \n",
       "1      1  TRACCMH128F428E4CD   \n",
       "2      2  TRACCSW128F148C7C3   \n",
       "3      3  TRACCXJ128F428F0CF   \n",
       "4      4  TRACCVS12903D014F8   \n",
       "5      5  TRACCKS128F42B77AE   \n",
       "6      6  TRACCQM12903CACC1E   \n",
       "7      7  TRACCUS128F92E1FEB   \n",
       "8      8  TRACCJA128F149A144   \n",
       "9      9  TRACCGB12903CD1B90   \n",
       "\n",
       "                                               title             song_id  \\\n",
       "0                                  Deep Sea Creature  SOVLGJY12A8C13FBED   \n",
       "1                               No Quieras Marcharte  SOGDQZK12A8C13F37C   \n",
       "2                                            If I...  SODMVJR12A6D4F985D   \n",
       "3  Werther - Lyric Drama in four Acts/Act I/Alors...  SOIWBDR12A8C13A4AC   \n",
       "4               Ad Te Clamamus Exsvles Mortva Liberi  SOHCCIA12AC907577F   \n",
       "5                                         Murder One  SOBOAQC12A8C13E3E9   \n",
       "6                                   On My Feet Again  SOKVLHX12AB0187B39   \n",
       "7                                  Bedroom Acoustics  SOMMSMW12A8C13FCCC   \n",
       "8                                            Segredo  SODPNJR12A6D4FA52D   \n",
       "9                          Sajana (Ft Faheem Mazhar)  SOFFLLP12AB018ED52   \n",
       "\n",
       "                   release           artist_id  \\\n",
       "0     Call of the Mastodon  ARMQHX71187B9890D3   \n",
       "1                 Adelante  AR2PT4M1187FB55B1A   \n",
       "2                Ill Na Na  ARDI88R1187B98DAB2   \n",
       "3        Massenet: Werther  ARUKJUP12086C14589   \n",
       "4           Pentagrammaton  ARZEWUR1187FB53DC8   \n",
       "5         BTNHRESURRECTION  ARUZRFN1187B98AC05   \n",
       "6                   Utopia  ARHBWOZ1187FB3FD53   \n",
       "7             Plug In Baby  ARR3ONV1187B9A2F59   \n",
       "8       Joao Voz E Violato  AR3THYK1187B999F1F   \n",
       "9  The Lost Souls Bonus EP  ARFELOH1187B991F95   \n",
       "\n",
       "                            artist_mbid                      artist_name  \\\n",
       "0  bc5e2ad6-0a4a-4d90-b911-e9a7e6861727                         Mastodon   \n",
       "1  d54ea4a6-0b9c-4e47-bed0-289ae9ff4037                      Los Chichos   \n",
       "2  fd87374e-ffde-4d36-89a8-8a073f795666                       Foxy Brown   \n",
       "3  8a5f2736-bcde-4a2e-8d50-72631d66a7ef  RamÃ³n Vargas;Vladimir Jurowski   \n",
       "4  0be59867-0da4-4e45-9b64-728cdf25487c                        Enthroned   \n",
       "5  2fa45bbb-0efb-4950-9d40-94bf23cbfec1             Bone Thugs-N-Harmony   \n",
       "6  e6ff2839-5ccb-451b-b07e-f485bc143118                           Utopia   \n",
       "7  fd857293-5ab8-40de-b29e-55a69d4e4d0f                             Muse   \n",
       "8  286ec4c2-b5ca-4f85-b331-280a6d73dd14                   JoÃ£o Gilberto   \n",
       "9  65b785d9-499f-48e6-9063-3a1fd1bd488d                       Niraj Chag   \n",
       "\n",
       "    duration  artist_familiarity  artist_hotttnesss  year  \n",
       "0  280.21506            0.780462           0.574275  2001  \n",
       "1  191.68608            0.561590           0.420570  1984  \n",
       "2  222.92853            0.687687           0.406686     0  \n",
       "3  278.38649            0.391741           0.291265     0  \n",
       "4   89.15546            0.593416           0.395710  2010  \n",
       "5  255.73832            0.815923           0.555138  2000  \n",
       "6  239.59465            0.543937           0.430300     0  \n",
       "7  156.96934            0.929030           0.750427     0  \n",
       "8  197.19791            0.645192           0.471224  2000  \n",
       "9  262.58240            0.495819           0.342765     0  "
      ]
     },
     "execution_count": 5,
     "metadata": {},
     "output_type": "execute_result"
    }
   ],
   "source": [
    "# SQl \n",
    "#\n",
    "# select * \n",
    "# from songs  \n",
    "# limit 10 \n",
    "#\n",
    "\n",
    "q1='select * from songs  limit 10'\n",
    "pd = (sql.read_sql_query(q1, cnx))\n",
    "pd.head(10)"
   ]
  },
  {
   "cell_type": "code",
   "execution_count": 6,
   "metadata": {
    "collapsed": false
   },
   "outputs": [
    {
     "data": {
      "text/html": [
       "<div>\n",
       "<table border=\"1\" class=\"dataframe\">\n",
       "  <thead>\n",
       "    <tr style=\"text-align: right;\">\n",
       "      <th></th>\n",
       "      <th>count(distinct(artist_id || artist_name ))</th>\n",
       "    </tr>\n",
       "  </thead>\n",
       "  <tbody>\n",
       "    <tr>\n",
       "      <th>0</th>\n",
       "      <td>4437</td>\n",
       "    </tr>\n",
       "  </tbody>\n",
       "</table>\n",
       "</div>"
      ],
      "text/plain": [
       "   count(distinct(artist_id || artist_name ))\n",
       "0                                        4437"
      ]
     },
     "execution_count": 6,
     "metadata": {},
     "output_type": "execute_result"
    }
   ],
   "source": [
    "# Get a count of unique artists on the songs file\n",
    "#\n",
    "# Sql\n",
    "#\n",
    "# select count(distinct(artist_id || artist_name )) \n",
    "# from songs\n",
    "\n",
    "q1='select count(distinct(artist_id || artist_name )) from songs'\n",
    "pd = (sql.read_sql_query(q1, cnx))\n",
    "pd.head()"
   ]
  },
  {
   "cell_type": "markdown",
   "metadata": {},
   "source": [
    "AS there are only 4437 artists for the 10,000 songs, some artists have multiple entries.  we will have to make a seperate file of distinct artists. Select artist id and name .\n"
   ]
  },
  {
   "cell_type": "code",
   "execution_count": 7,
   "metadata": {
    "collapsed": false
   },
   "outputs": [
    {
     "name": "stdout",
     "output_type": "stream",
     "text": [
      "4437\n"
     ]
    }
   ],
   "source": [
    "#\n",
    "# Sql\n",
    "#\n",
    "# select distinct artist_id, artist_name \n",
    "# from songs\n",
    "\n",
    "artist_id_name = (sql.read_sql_query('select distinct artist_id, artist_name from songs', cnx))\n",
    "\n",
    "# write a version to sqllite\n",
    "sql.to_sql(artist_id_name, name='artist_id_name', if_exists='replace', con=cnx)\n",
    "\n",
    "# write a version as a csv file \n",
    "artist_id_name.to_csv('artist_id_name.csv',  encoding='ISO-8859-1')\n",
    "\n",
    "print(len(artist_id_name.index))"
   ]
  },
  {
   "cell_type": "markdown",
   "metadata": {
    "collapsed": true
   },
   "source": [
    " Now, go to the artist_tags table and get a distinct list of tags (first select from table)"
   ]
  },
  {
   "cell_type": "code",
   "execution_count": 8,
   "metadata": {
    "collapsed": false
   },
   "outputs": [
    {
     "data": {
      "text/html": [
       "<div>\n",
       "<table border=\"1\" class=\"dataframe\">\n",
       "  <thead>\n",
       "    <tr style=\"text-align: right;\">\n",
       "      <th></th>\n",
       "      <th>index</th>\n",
       "      <th>artist_id</th>\n",
       "      <th>mbtag</th>\n",
       "    </tr>\n",
       "  </thead>\n",
       "  <tbody>\n",
       "    <tr>\n",
       "      <th>0</th>\n",
       "      <td>0</td>\n",
       "      <td>AR00A6H1187FB5402A</td>\n",
       "      <td>detroit</td>\n",
       "    </tr>\n",
       "    <tr>\n",
       "      <th>1</th>\n",
       "      <td>1</td>\n",
       "      <td>AR00A6H1187FB5402A</td>\n",
       "      <td>punk</td>\n",
       "    </tr>\n",
       "    <tr>\n",
       "      <th>2</th>\n",
       "      <td>2</td>\n",
       "      <td>AR00A6H1187FB5402A</td>\n",
       "      <td>michigan</td>\n",
       "    </tr>\n",
       "    <tr>\n",
       "      <th>3</th>\n",
       "      <td>3</td>\n",
       "      <td>AR00A6H1187FB5402A</td>\n",
       "      <td>usa</td>\n",
       "    </tr>\n",
       "    <tr>\n",
       "      <th>4</th>\n",
       "      <td>4</td>\n",
       "      <td>AR01VU31187B997DA0</td>\n",
       "      <td>hard rock</td>\n",
       "    </tr>\n",
       "    <tr>\n",
       "      <th>5</th>\n",
       "      <td>5</td>\n",
       "      <td>AR01VU31187B997DA0</td>\n",
       "      <td>rock</td>\n",
       "    </tr>\n",
       "    <tr>\n",
       "      <th>6</th>\n",
       "      <td>6</td>\n",
       "      <td>AR01VU31187B997DA0</td>\n",
       "      <td>american</td>\n",
       "    </tr>\n",
       "    <tr>\n",
       "      <th>7</th>\n",
       "      <td>7</td>\n",
       "      <td>AR01W2D1187FB5912F</td>\n",
       "      <td>united states</td>\n",
       "    </tr>\n",
       "    <tr>\n",
       "      <th>8</th>\n",
       "      <td>8</td>\n",
       "      <td>AR022JO1187B99587B</td>\n",
       "      <td>production music</td>\n",
       "    </tr>\n",
       "    <tr>\n",
       "      <th>9</th>\n",
       "      <td>9</td>\n",
       "      <td>AR02IU11187FB513F2</td>\n",
       "      <td>jazz</td>\n",
       "    </tr>\n",
       "  </tbody>\n",
       "</table>\n",
       "</div>"
      ],
      "text/plain": [
       "   index           artist_id             mbtag\n",
       "0      0  AR00A6H1187FB5402A           detroit\n",
       "1      1  AR00A6H1187FB5402A              punk\n",
       "2      2  AR00A6H1187FB5402A          michigan\n",
       "3      3  AR00A6H1187FB5402A               usa\n",
       "4      4  AR01VU31187B997DA0         hard rock\n",
       "5      5  AR01VU31187B997DA0              rock\n",
       "6      6  AR01VU31187B997DA0          american\n",
       "7      7  AR01W2D1187FB5912F     united states\n",
       "8      8  AR022JO1187B99587B  production music\n",
       "9      9  AR02IU11187FB513F2              jazz"
      ]
     },
     "execution_count": 8,
     "metadata": {},
     "output_type": "execute_result"
    }
   ],
   "source": [
    "#\n",
    "# Sql\n",
    "#\n",
    "# select * \n",
    "# from artist_tag  \n",
    "# limit 10\n",
    "\n",
    "q1='select * from artist_tag  limit 10'\n",
    "pd = (sql.read_sql_query(q1, cnx))\n",
    "pd.head(10)"
   ]
  },
  {
   "cell_type": "markdown",
   "metadata": {},
   "source": [
    "Now, check how many unique Tags exist on on_artist_tag\n",
    "\n",
    "First, get a list of distinct tags"
   ]
  },
  {
   "cell_type": "code",
   "execution_count": 9,
   "metadata": {
    "collapsed": false
   },
   "outputs": [
    {
     "name": "stdout",
     "output_type": "stream",
     "text": [
      "726\n"
     ]
    },
    {
     "data": {
      "text/html": [
       "<div>\n",
       "<table border=\"1\" class=\"dataframe\">\n",
       "  <thead>\n",
       "    <tr style=\"text-align: right;\">\n",
       "      <th></th>\n",
       "      <th>mbtag</th>\n",
       "    </tr>\n",
       "  </thead>\n",
       "  <tbody>\n",
       "    <tr>\n",
       "      <th>0</th>\n",
       "      <td>detroit</td>\n",
       "    </tr>\n",
       "    <tr>\n",
       "      <th>1</th>\n",
       "      <td>punk</td>\n",
       "    </tr>\n",
       "    <tr>\n",
       "      <th>2</th>\n",
       "      <td>michigan</td>\n",
       "    </tr>\n",
       "    <tr>\n",
       "      <th>3</th>\n",
       "      <td>usa</td>\n",
       "    </tr>\n",
       "    <tr>\n",
       "      <th>4</th>\n",
       "      <td>hard rock</td>\n",
       "    </tr>\n",
       "    <tr>\n",
       "      <th>5</th>\n",
       "      <td>rock</td>\n",
       "    </tr>\n",
       "    <tr>\n",
       "      <th>6</th>\n",
       "      <td>american</td>\n",
       "    </tr>\n",
       "    <tr>\n",
       "      <th>7</th>\n",
       "      <td>united states</td>\n",
       "    </tr>\n",
       "    <tr>\n",
       "      <th>8</th>\n",
       "      <td>production music</td>\n",
       "    </tr>\n",
       "    <tr>\n",
       "      <th>9</th>\n",
       "      <td>jazz</td>\n",
       "    </tr>\n",
       "    <tr>\n",
       "      <th>10</th>\n",
       "      <td>latin</td>\n",
       "    </tr>\n",
       "    <tr>\n",
       "      <th>11</th>\n",
       "      <td>trance</td>\n",
       "    </tr>\n",
       "    <tr>\n",
       "      <th>12</th>\n",
       "      <td>electronic</td>\n",
       "    </tr>\n",
       "    <tr>\n",
       "      <th>13</th>\n",
       "      <td>progressive house</td>\n",
       "    </tr>\n",
       "    <tr>\n",
       "      <th>14</th>\n",
       "      <td>composer</td>\n",
       "    </tr>\n",
       "    <tr>\n",
       "      <th>15</th>\n",
       "      <td>film composer</td>\n",
       "    </tr>\n",
       "    <tr>\n",
       "      <th>16</th>\n",
       "      <td>pop</td>\n",
       "    </tr>\n",
       "    <tr>\n",
       "      <th>17</th>\n",
       "      <td>urban pop</td>\n",
       "    </tr>\n",
       "    <tr>\n",
       "      <th>18</th>\n",
       "      <td>dance</td>\n",
       "    </tr>\n",
       "    <tr>\n",
       "      <th>19</th>\n",
       "      <td>pop and chart</td>\n",
       "    </tr>\n",
       "  </tbody>\n",
       "</table>\n",
       "</div>"
      ],
      "text/plain": [
       "                mbtag\n",
       "0             detroit\n",
       "1                punk\n",
       "2            michigan\n",
       "3                 usa\n",
       "4           hard rock\n",
       "5                rock\n",
       "6            american\n",
       "7       united states\n",
       "8    production music\n",
       "9                jazz\n",
       "10              latin\n",
       "11             trance\n",
       "12         electronic\n",
       "13  progressive house\n",
       "14           composer\n",
       "15      film composer\n",
       "16                pop\n",
       "17          urban pop\n",
       "18              dance\n",
       "19      pop and chart"
      ]
     },
     "execution_count": 9,
     "metadata": {},
     "output_type": "execute_result"
    }
   ],
   "source": [
    "#\n",
    "# Sql\n",
    "#\n",
    "# select distinct(mbtag) \n",
    "# from artist_tag\n",
    "\n",
    "q1='select distinct(mbtag) from artist_tag'\n",
    "mbtags = (sql.read_sql_query(q1, cnx))\n",
    "print(len(mbtags.index))\n",
    "mbtags.head(20)"
   ]
  },
  {
   "cell_type": "markdown",
   "metadata": {},
   "source": [
    "There are 720 distinct mbtags,  create a file of these "
   ]
  },
  {
   "cell_type": "code",
   "execution_count": 10,
   "metadata": {
    "collapsed": false
   },
   "outputs": [],
   "source": [
    "# write a version to sqllite\n",
    "sql.to_sql(mbtags, name='mbtags', if_exists='replace', con=cnx)\n",
    "# write a version as a csv file \n",
    "mbtags.to_csv('mbtags.csv', encoding='ISO-8859-1')"
   ]
  },
  {
   "cell_type": "markdown",
   "metadata": {},
   "source": [
    "Now, get count of tags for each artist, order desc by count"
   ]
  },
  {
   "cell_type": "code",
   "execution_count": 11,
   "metadata": {
    "collapsed": false
   },
   "outputs": [
    {
     "data": {
      "text/html": [
       "<div>\n",
       "<table border=\"1\" class=\"dataframe\">\n",
       "  <thead>\n",
       "    <tr style=\"text-align: right;\">\n",
       "      <th></th>\n",
       "      <th>artist_id</th>\n",
       "      <th>count</th>\n",
       "    </tr>\n",
       "  </thead>\n",
       "  <tbody>\n",
       "    <tr>\n",
       "      <th>0</th>\n",
       "      <td>AR4L4WQ1187FB51996</td>\n",
       "      <td>20</td>\n",
       "    </tr>\n",
       "    <tr>\n",
       "      <th>1</th>\n",
       "      <td>AR6XZ861187FB4CECD</td>\n",
       "      <td>20</td>\n",
       "    </tr>\n",
       "    <tr>\n",
       "      <th>2</th>\n",
       "      <td>ARMJMBJ1187B98C46F</td>\n",
       "      <td>20</td>\n",
       "    </tr>\n",
       "    <tr>\n",
       "      <th>3</th>\n",
       "      <td>ARXPPEY1187FB51DF4</td>\n",
       "      <td>20</td>\n",
       "    </tr>\n",
       "    <tr>\n",
       "      <th>4</th>\n",
       "      <td>ARAXU5Z1187B98FECD</td>\n",
       "      <td>17</td>\n",
       "    </tr>\n",
       "    <tr>\n",
       "      <th>5</th>\n",
       "      <td>ART5MUE1187B98C961</td>\n",
       "      <td>17</td>\n",
       "    </tr>\n",
       "    <tr>\n",
       "      <th>6</th>\n",
       "      <td>AR5FP401187FB523C9</td>\n",
       "      <td>16</td>\n",
       "    </tr>\n",
       "    <tr>\n",
       "      <th>7</th>\n",
       "      <td>ARASYMJ1187B9ACAF2</td>\n",
       "      <td>16</td>\n",
       "    </tr>\n",
       "    <tr>\n",
       "      <th>8</th>\n",
       "      <td>ARN5NHX1187FB4F755</td>\n",
       "      <td>16</td>\n",
       "    </tr>\n",
       "    <tr>\n",
       "      <th>9</th>\n",
       "      <td>ARNHHIV1187FB4EA23</td>\n",
       "      <td>16</td>\n",
       "    </tr>\n",
       "  </tbody>\n",
       "</table>\n",
       "</div>"
      ],
      "text/plain": [
       "            artist_id  count\n",
       "0  AR4L4WQ1187FB51996     20\n",
       "1  AR6XZ861187FB4CECD     20\n",
       "2  ARMJMBJ1187B98C46F     20\n",
       "3  ARXPPEY1187FB51DF4     20\n",
       "4  ARAXU5Z1187B98FECD     17\n",
       "5  ART5MUE1187B98C961     17\n",
       "6  AR5FP401187FB523C9     16\n",
       "7  ARASYMJ1187B9ACAF2     16\n",
       "8  ARN5NHX1187FB4F755     16\n",
       "9  ARNHHIV1187FB4EA23     16"
      ]
     },
     "execution_count": 11,
     "metadata": {},
     "output_type": "execute_result"
    }
   ],
   "source": [
    "#\n",
    "# Sql\n",
    "#\n",
    "# select artist_id, count(*) as \"count\" \n",
    "# from artist_tag \n",
    "# group by artist_id \n",
    "# order by 2 desc\n",
    "\n",
    "q1='select artist_id, count(*) as \"count\" from artist_tag group by artist_id order by 2 desc'\n",
    "pd = (sql.read_sql_query(q1, cnx))\n",
    "pd.head(10) "
   ]
  },
  {
   "cell_type": "markdown",
   "metadata": {},
   "source": [
    "Now, get a count of the number of artists have a given number of tags  (e.g say 3 artists have 20 and so on)\n",
    "( do an inner and outer group by )"
   ]
  },
  {
   "cell_type": "code",
   "execution_count": 12,
   "metadata": {
    "collapsed": false
   },
   "outputs": [
    {
     "data": {
      "text/plain": [
       "<matplotlib.axes._subplots.AxesSubplot at 0x9246dd0>"
      ]
     },
     "execution_count": 12,
     "metadata": {},
     "output_type": "execute_result"
    },
    {
     "data": {
      "image/png": "[encoded data removed]",
      "text/plain": [
       "<matplotlib.figure.Figure at 0x924b9f0>"
      ]
     },
     "metadata": {},
     "output_type": "display_data"
    }
   ],
   "source": [
    "#\n",
    "# Sql\n",
    "#\n",
    "# select a.tagsPerArtist, count(*) as \"NumberOfArtists\" \n",
    "# from ( select count(*) as \"tagsPerArtist\" \n",
    "#        from artist_tag \n",
    "#        group by artist_id) a \n",
    "# group by a.tagsPerArtist \n",
    "# order by 1 desc '\n",
    "\n",
    "q1 = 'select a.tagsPerArtist, count(*) as \"NumberOfArtists\" from ( select count(*) as \"tagsPerArtist\" from artist_tag group by artist_id) a group by a.tagsPerArtist order by 1 '\n",
    "pd = (sql.read_sql_query(q1, cnx))\n",
    "\n",
    "pd.plot(kind='bar',x='tagsPerArtist',y='NumberOfArtists',figsize=(10, 5))\n",
    "\n",
    "# Note on plot below, this plot the number of artists that have a given number of tags"
   ]
  },
  {
   "cell_type": "markdown",
   "metadata": {},
   "source": [
    "now, select all tags for one artist, also join on artist_id_name to get artist name (use artist_id from above, one with 20 tags)"
   ]
  },
  {
   "cell_type": "code",
   "execution_count": 29,
   "metadata": {
    "collapsed": false
   },
   "outputs": [
    {
     "data": {
      "text/html": [
       "<div>\n",
       "<table border=\"1\" class=\"dataframe\">\n",
       "  <thead>\n",
       "    <tr style=\"text-align: right;\">\n",
       "      <th></th>\n",
       "      <th>artist_id</th>\n",
       "      <th>artist_name</th>\n",
       "      <th>mbtag</th>\n",
       "    </tr>\n",
       "  </thead>\n",
       "  <tbody>\n",
       "    <tr>\n",
       "      <th>0</th>\n",
       "      <td>AR4L4WQ1187FB51996</td>\n",
       "      <td>The Prodigy</td>\n",
       "      <td>electronic</td>\n",
       "    </tr>\n",
       "    <tr>\n",
       "      <th>1</th>\n",
       "      <td>AR4L4WQ1187FB51996</td>\n",
       "      <td>The Prodigy</td>\n",
       "      <td>british</td>\n",
       "    </tr>\n",
       "    <tr>\n",
       "      <th>2</th>\n",
       "      <td>AR4L4WQ1187FB51996</td>\n",
       "      <td>The Prodigy</td>\n",
       "      <td>big beat</td>\n",
       "    </tr>\n",
       "    <tr>\n",
       "      <th>3</th>\n",
       "      <td>AR4L4WQ1187FB51996</td>\n",
       "      <td>The Prodigy</td>\n",
       "      <td>techno</td>\n",
       "    </tr>\n",
       "    <tr>\n",
       "      <th>4</th>\n",
       "      <td>AR4L4WQ1187FB51996</td>\n",
       "      <td>The Prodigy</td>\n",
       "      <td>hardcore</td>\n",
       "    </tr>\n",
       "    <tr>\n",
       "      <th>5</th>\n",
       "      <td>AR4L4WQ1187FB51996</td>\n",
       "      <td>The Prodigy</td>\n",
       "      <td>uk</td>\n",
       "    </tr>\n",
       "    <tr>\n",
       "      <th>6</th>\n",
       "      <td>AR4L4WQ1187FB51996</td>\n",
       "      <td>The Prodigy</td>\n",
       "      <td>electropunk</td>\n",
       "    </tr>\n",
       "    <tr>\n",
       "      <th>7</th>\n",
       "      <td>AR4L4WQ1187FB51996</td>\n",
       "      <td>The Prodigy</td>\n",
       "      <td>braintree</td>\n",
       "    </tr>\n",
       "    <tr>\n",
       "      <th>8</th>\n",
       "      <td>AR4L4WQ1187FB51996</td>\n",
       "      <td>The Prodigy</td>\n",
       "      <td>dance and electronica</td>\n",
       "    </tr>\n",
       "    <tr>\n",
       "      <th>9</th>\n",
       "      <td>AR4L4WQ1187FB51996</td>\n",
       "      <td>The Prodigy</td>\n",
       "      <td>breakbeat hardcore</td>\n",
       "    </tr>\n",
       "    <tr>\n",
       "      <th>10</th>\n",
       "      <td>AR4L4WQ1187FB51996</td>\n",
       "      <td>The Prodigy</td>\n",
       "      <td>dance-punk</td>\n",
       "    </tr>\n",
       "    <tr>\n",
       "      <th>11</th>\n",
       "      <td>AR4L4WQ1187FB51996</td>\n",
       "      <td>The Prodigy</td>\n",
       "      <td>electro</td>\n",
       "    </tr>\n",
       "    <tr>\n",
       "      <th>12</th>\n",
       "      <td>AR4L4WQ1187FB51996</td>\n",
       "      <td>The Prodigy</td>\n",
       "      <td>dance</td>\n",
       "    </tr>\n",
       "    <tr>\n",
       "      <th>13</th>\n",
       "      <td>AR4L4WQ1187FB51996</td>\n",
       "      <td>The Prodigy</td>\n",
       "      <td>2005</td>\n",
       "    </tr>\n",
       "    <tr>\n",
       "      <th>14</th>\n",
       "      <td>AR4L4WQ1187FB51996</td>\n",
       "      <td>The Prodigy</td>\n",
       "      <td>britannique</td>\n",
       "    </tr>\n",
       "    <tr>\n",
       "      <th>15</th>\n",
       "      <td>AR4L4WQ1187FB51996</td>\n",
       "      <td>The Prodigy</td>\n",
       "      <td>electronica</td>\n",
       "    </tr>\n",
       "    <tr>\n",
       "      <th>16</th>\n",
       "      <td>AR4L4WQ1187FB51996</td>\n",
       "      <td>The Prodigy</td>\n",
       "      <td>english</td>\n",
       "    </tr>\n",
       "    <tr>\n",
       "      <th>17</th>\n",
       "      <td>AR4L4WQ1187FB51996</td>\n",
       "      <td>The Prodigy</td>\n",
       "      <td>alternative rock</td>\n",
       "    </tr>\n",
       "    <tr>\n",
       "      <th>18</th>\n",
       "      <td>AR4L4WQ1187FB51996</td>\n",
       "      <td>The Prodigy</td>\n",
       "      <td>rave</td>\n",
       "    </tr>\n",
       "    <tr>\n",
       "      <th>19</th>\n",
       "      <td>AR4L4WQ1187FB51996</td>\n",
       "      <td>The Prodigy</td>\n",
       "      <td>industrial</td>\n",
       "    </tr>\n",
       "  </tbody>\n",
       "</table>\n",
       "</div>"
      ],
      "text/plain": [
       "             artist_id  artist_name                  mbtag\n",
       "0   AR4L4WQ1187FB51996  The Prodigy             electronic\n",
       "1   AR4L4WQ1187FB51996  The Prodigy                british\n",
       "2   AR4L4WQ1187FB51996  The Prodigy               big beat\n",
       "3   AR4L4WQ1187FB51996  The Prodigy                 techno\n",
       "4   AR4L4WQ1187FB51996  The Prodigy               hardcore\n",
       "5   AR4L4WQ1187FB51996  The Prodigy                     uk\n",
       "6   AR4L4WQ1187FB51996  The Prodigy            electropunk\n",
       "7   AR4L4WQ1187FB51996  The Prodigy              braintree\n",
       "8   AR4L4WQ1187FB51996  The Prodigy  dance and electronica\n",
       "9   AR4L4WQ1187FB51996  The Prodigy     breakbeat hardcore\n",
       "10  AR4L4WQ1187FB51996  The Prodigy             dance-punk\n",
       "11  AR4L4WQ1187FB51996  The Prodigy                electro\n",
       "12  AR4L4WQ1187FB51996  The Prodigy                  dance\n",
       "13  AR4L4WQ1187FB51996  The Prodigy                   2005\n",
       "14  AR4L4WQ1187FB51996  The Prodigy            britannique\n",
       "15  AR4L4WQ1187FB51996  The Prodigy            electronica\n",
       "16  AR4L4WQ1187FB51996  The Prodigy                english\n",
       "17  AR4L4WQ1187FB51996  The Prodigy       alternative rock\n",
       "18  AR4L4WQ1187FB51996  The Prodigy                   rave\n",
       "19  AR4L4WQ1187FB51996  The Prodigy             industrial"
      ]
     },
     "execution_count": 29,
     "metadata": {},
     "output_type": "execute_result"
    }
   ],
   "source": [
    "#\n",
    "# Sql\n",
    "#\n",
    "# select a.artist_id, b.artist_name ,a.mbtag \n",
    "# from artist_tag a \n",
    "#         inner join artist_id_name b \n",
    "#            on a.artist_id = b.artist_id \n",
    "# where a.artist_id = \"AR4L4WQ1187FB51996\" '\n",
    " \n",
    "q1 = 'select a.artist_id, b.artist_name ,a.mbtag from artist_tag a inner join artist_id_name b on a.artist_id = b.artist_id where a.artist_id = \"AR4L4WQ1187FB51996\" '\n",
    "\n",
    "pd = (sql.read_sql_query(q1, cnx))\n",
    "pd.head(20)"
   ]
  },
  {
   "cell_type": "markdown",
   "metadata": {},
   "source": [
    "Interesting, the artists 'The Prodigy' have an extensive list of tags. \n",
    "\n",
    "Now, check how many occurances there are for each of the prodigy tags ( check how connected they could be)"
   ]
  },
  {
   "cell_type": "code",
   "execution_count": 14,
   "metadata": {
    "collapsed": false
   },
   "outputs": [
    {
     "data": {
      "text/html": [
       "<div>\n",
       "<table border=\"1\" class=\"dataframe\">\n",
       "  <thead>\n",
       "    <tr style=\"text-align: right;\">\n",
       "      <th></th>\n",
       "      <th>mbtag</th>\n",
       "      <th>count</th>\n",
       "    </tr>\n",
       "  </thead>\n",
       "  <tbody>\n",
       "    <tr>\n",
       "      <th>0</th>\n",
       "      <td>british</td>\n",
       "      <td>122</td>\n",
       "    </tr>\n",
       "    <tr>\n",
       "      <th>1</th>\n",
       "      <td>uk</td>\n",
       "      <td>119</td>\n",
       "    </tr>\n",
       "    <tr>\n",
       "      <th>2</th>\n",
       "      <td>english</td>\n",
       "      <td>87</td>\n",
       "    </tr>\n",
       "    <tr>\n",
       "      <th>3</th>\n",
       "      <td>alternative rock</td>\n",
       "      <td>52</td>\n",
       "    </tr>\n",
       "    <tr>\n",
       "      <th>4</th>\n",
       "      <td>electronic</td>\n",
       "      <td>50</td>\n",
       "    </tr>\n",
       "    <tr>\n",
       "      <th>5</th>\n",
       "      <td>dance and electronica</td>\n",
       "      <td>24</td>\n",
       "    </tr>\n",
       "    <tr>\n",
       "      <th>6</th>\n",
       "      <td>britannique</td>\n",
       "      <td>21</td>\n",
       "    </tr>\n",
       "    <tr>\n",
       "      <th>7</th>\n",
       "      <td>electronica</td>\n",
       "      <td>14</td>\n",
       "    </tr>\n",
       "    <tr>\n",
       "      <th>8</th>\n",
       "      <td>dance</td>\n",
       "      <td>9</td>\n",
       "    </tr>\n",
       "    <tr>\n",
       "      <th>9</th>\n",
       "      <td>techno</td>\n",
       "      <td>9</td>\n",
       "    </tr>\n",
       "    <tr>\n",
       "      <th>10</th>\n",
       "      <td>electro</td>\n",
       "      <td>6</td>\n",
       "    </tr>\n",
       "    <tr>\n",
       "      <th>11</th>\n",
       "      <td>hardcore</td>\n",
       "      <td>5</td>\n",
       "    </tr>\n",
       "    <tr>\n",
       "      <th>12</th>\n",
       "      <td>industrial</td>\n",
       "      <td>4</td>\n",
       "    </tr>\n",
       "    <tr>\n",
       "      <th>13</th>\n",
       "      <td>dance-punk</td>\n",
       "      <td>3</td>\n",
       "    </tr>\n",
       "    <tr>\n",
       "      <th>14</th>\n",
       "      <td>big beat</td>\n",
       "      <td>2</td>\n",
       "    </tr>\n",
       "    <tr>\n",
       "      <th>15</th>\n",
       "      <td>electropunk</td>\n",
       "      <td>2</td>\n",
       "    </tr>\n",
       "    <tr>\n",
       "      <th>16</th>\n",
       "      <td>rave</td>\n",
       "      <td>2</td>\n",
       "    </tr>\n",
       "    <tr>\n",
       "      <th>17</th>\n",
       "      <td>2005</td>\n",
       "      <td>1</td>\n",
       "    </tr>\n",
       "    <tr>\n",
       "      <th>18</th>\n",
       "      <td>braintree</td>\n",
       "      <td>1</td>\n",
       "    </tr>\n",
       "    <tr>\n",
       "      <th>19</th>\n",
       "      <td>breakbeat hardcore</td>\n",
       "      <td>1</td>\n",
       "    </tr>\n",
       "  </tbody>\n",
       "</table>\n",
       "</div>"
      ],
      "text/plain": [
       "                    mbtag  count\n",
       "0                 british    122\n",
       "1                      uk    119\n",
       "2                 english     87\n",
       "3        alternative rock     52\n",
       "4              electronic     50\n",
       "5   dance and electronica     24\n",
       "6             britannique     21\n",
       "7             electronica     14\n",
       "8                   dance      9\n",
       "9                  techno      9\n",
       "10                electro      6\n",
       "11               hardcore      5\n",
       "12             industrial      4\n",
       "13             dance-punk      3\n",
       "14               big beat      2\n",
       "15            electropunk      2\n",
       "16                   rave      2\n",
       "17                   2005      1\n",
       "18              braintree      1\n",
       "19     breakbeat hardcore      1"
      ]
     },
     "execution_count": 14,
     "metadata": {},
     "output_type": "execute_result"
    }
   ],
   "source": [
    "#\n",
    "# Sql\n",
    "#\n",
    "# select mbtag, count(*) as \"count\" \n",
    "# from artist_tag  \n",
    "# where mbtag in \n",
    "#      ( select mbtag \n",
    "#        from artist_tag \n",
    "#        where artist_id = \"AR4L4WQ1187FB51996\" )\n",
    "# group by mbtag \n",
    "# order by 2 desc '\n",
    "\n",
    "q1 = 'select mbtag, count(*) as \"count\" from artist_tag  where mbtag in ( select mbtag from artist_tag where artist_id = \"AR4L4WQ1187FB51996\" ) group by mbtag order by 2 desc '\n",
    "pd = (sql.read_sql_query(q1, cnx))\n",
    "pd.head(20)"
   ]
  },
  {
   "cell_type": "markdown",
   "metadata": {},
   "source": [
    "This looks good, there are a lot of connections \n",
    "\n",
    "Now, get the avg number of tags for an artist"
   ]
  },
  {
   "cell_type": "code",
   "execution_count": 15,
   "metadata": {
    "collapsed": false
   },
   "outputs": [
    {
     "data": {
      "text/html": [
       "<div>\n",
       "<table border=\"1\" class=\"dataframe\">\n",
       "  <thead>\n",
       "    <tr style=\"text-align: right;\">\n",
       "      <th></th>\n",
       "      <th>avg(a.count)</th>\n",
       "    </tr>\n",
       "  </thead>\n",
       "  <tbody>\n",
       "    <tr>\n",
       "      <th>0</th>\n",
       "      <td>1.141204</td>\n",
       "    </tr>\n",
       "  </tbody>\n",
       "</table>\n",
       "</div>"
      ],
      "text/plain": [
       "   avg(a.count)\n",
       "0      1.141204"
      ]
     },
     "execution_count": 15,
     "metadata": {},
     "output_type": "execute_result"
    }
   ],
   "source": [
    "#\n",
    "# Sql\n",
    "#\n",
    "# select avg(a.count) \n",
    "# from (select count(*) as \"count\" \n",
    "#       from artist_id_name \n",
    "#       group by artist_id) a \n",
    "\n",
    "q1 = 'select avg(a.count) from (select count(*) as \"count\" from artist_id_name group by artist_id) a '\n",
    "pd = (sql.read_sql_query(q1, cnx))\n",
    "pd.head()"
   ]
  },
  {
   "cell_type": "markdown",
   "metadata": {},
   "source": [
    "So, the avg tags for most artists will be about 1, thats ok "
   ]
  },
  {
   "cell_type": "markdown",
   "metadata": {},
   "source": [
    "####### Now, check if any artists with Tags have no songs OR artists with songs have no tags \n",
    "\n",
    "####### Summary of below\n",
    "\n",
    "All artists on the artist_tag table have a song on the songs table, which is grand.\n",
    "There are only about 1090 unique artists on artist_tag table so about 3060 artists on the songs table are without any tags \n"
   ]
  },
  {
   "cell_type": "code",
   "execution_count": 16,
   "metadata": {
    "collapsed": false
   },
   "outputs": [
    {
     "data": {
      "text/html": [
       "<div>\n",
       "<table border=\"1\" class=\"dataframe\">\n",
       "  <thead>\n",
       "    <tr style=\"text-align: right;\">\n",
       "      <th></th>\n",
       "      <th>\"No of Artists on Tags w/o songs\"</th>\n",
       "      <th>count</th>\n",
       "    </tr>\n",
       "  </thead>\n",
       "  <tbody>\n",
       "    <tr>\n",
       "      <th>0</th>\n",
       "      <td>No of Artists on Tags w/o songs</td>\n",
       "      <td>0</td>\n",
       "    </tr>\n",
       "  </tbody>\n",
       "</table>\n",
       "</div>"
      ],
      "text/plain": [
       "  \"No of Artists on Tags w/o songs\"  count\n",
       "0   No of Artists on Tags w/o songs      0"
      ]
     },
     "execution_count": 16,
     "metadata": {},
     "output_type": "execute_result"
    }
   ],
   "source": [
    "# select a count of artists on the artist_tags table that do not have a song (check against artist_id_name table)\n",
    "\n",
    "#\n",
    "# Sql\n",
    "#\n",
    "# select \"No of Artists on Tags w/o songs\", count(*) as \"count\" \n",
    "# from artist_tag \n",
    "# where artist_id not in (select artist_id \n",
    "#                         from artist_id_name)\n",
    "\n",
    "\n",
    "q1='select \"No of Artists on Tags w/o songs\", count(*) as \"count\" from artist_tag where artist_id not in (select artist_id from artist_id_name)'\n",
    "pd = (sql.read_sql_query(q1, cnx))\n",
    "pd.head(10) "
   ]
  },
  {
   "cell_type": "code",
   "execution_count": 17,
   "metadata": {
    "collapsed": false
   },
   "outputs": [
    {
     "data": {
      "text/html": [
       "<div>\n",
       "<table border=\"1\" class=\"dataframe\">\n",
       "  <thead>\n",
       "    <tr style=\"text-align: right;\">\n",
       "      <th></th>\n",
       "      <th>\"No of Artists on Songs w/o tags\"</th>\n",
       "      <th>count</th>\n",
       "    </tr>\n",
       "  </thead>\n",
       "  <tbody>\n",
       "    <tr>\n",
       "      <th>0</th>\n",
       "      <td>No of Artists on Songs w/o tags</td>\n",
       "      <td>3106</td>\n",
       "    </tr>\n",
       "  </tbody>\n",
       "</table>\n",
       "</div>"
      ],
      "text/plain": [
       "  \"No of Artists on Songs w/o tags\"  count\n",
       "0   No of Artists on Songs w/o tags   3106"
      ]
     },
     "execution_count": 17,
     "metadata": {},
     "output_type": "execute_result"
    }
   ],
   "source": [
    "# select a count of artists with a song but no tag on the artist_tag (check using artist_id_name table)\n",
    "\n",
    "#\n",
    "# Sql\n",
    "#\n",
    "# select \"No of Artists on Songs w/o tags\", count(*) as \"count\" \n",
    "# from artist_id_name \n",
    "# where artist_id not in (select artist_id \n",
    "#                         from artist_tag)\n",
    "\n",
    "q1='select \"No of Artists on Songs w/o tags\", count(*) as \"count\" from artist_id_name where artist_id not in (select artist_id from artist_tag)'\n",
    "pd = (sql.read_sql_query(q1, cnx))\n",
    "pd.head(10) "
   ]
  },
  {
   "cell_type": "code",
   "execution_count": 18,
   "metadata": {
    "collapsed": false
   },
   "outputs": [
    {
     "data": {
      "text/html": [
       "<div>\n",
       "<table border=\"1\" class=\"dataframe\">\n",
       "  <thead>\n",
       "    <tr style=\"text-align: right;\">\n",
       "      <th></th>\n",
       "      <th>count(distinct artist_id )</th>\n",
       "    </tr>\n",
       "  </thead>\n",
       "  <tbody>\n",
       "    <tr>\n",
       "      <th>0</th>\n",
       "      <td>1091</td>\n",
       "    </tr>\n",
       "  </tbody>\n",
       "</table>\n",
       "</div>"
      ],
      "text/plain": [
       "   count(distinct artist_id )\n",
       "0                        1091"
      ]
     },
     "execution_count": 18,
     "metadata": {},
     "output_type": "execute_result"
    }
   ],
   "source": [
    "# im not sure about this must do a count of distinct artist_ids on on the artist_tag table, if there are\n",
    "# only around 1000 or so, then its ok\n",
    "\n",
    "#\n",
    "# Sql\n",
    "#\n",
    "# select count(distinct artist_id ) \n",
    "# from artist_tag\n",
    "\n",
    "q1='select count(distinct artist_id ) from artist_tag'\n",
    "pd = (sql.read_sql_query(q1, cnx))\n",
    "pd.head(10) "
   ]
  },
  {
   "cell_type": "markdown",
   "metadata": {},
   "source": [
    "Now, go to the artist_artist_similarty table and get a count of of artists that are similar to an artist (first select from table)"
   ]
  },
  {
   "cell_type": "code",
   "execution_count": 19,
   "metadata": {
    "collapsed": false
   },
   "outputs": [
    {
     "data": {
      "text/html": [
       "<div>\n",
       "<table border=\"1\" class=\"dataframe\">\n",
       "  <thead>\n",
       "    <tr style=\"text-align: right;\">\n",
       "      <th></th>\n",
       "      <th>index</th>\n",
       "      <th>target</th>\n",
       "      <th>similar</th>\n",
       "    </tr>\n",
       "  </thead>\n",
       "  <tbody>\n",
       "    <tr>\n",
       "      <th>0</th>\n",
       "      <td>0</td>\n",
       "      <td>AR009211187B989185</td>\n",
       "      <td>ARHINI31187B995C1D</td>\n",
       "    </tr>\n",
       "    <tr>\n",
       "      <th>1</th>\n",
       "      <td>1</td>\n",
       "      <td>AR009211187B989185</td>\n",
       "      <td>ARI0PUX1187FB3F215</td>\n",
       "    </tr>\n",
       "    <tr>\n",
       "      <th>2</th>\n",
       "      <td>2</td>\n",
       "      <td>AR009211187B989185</td>\n",
       "      <td>AR9RTS51187B996CC8</td>\n",
       "    </tr>\n",
       "    <tr>\n",
       "      <th>3</th>\n",
       "      <td>3</td>\n",
       "      <td>AR009211187B989185</td>\n",
       "      <td>ARS1DCR1187B9A4A56</td>\n",
       "    </tr>\n",
       "    <tr>\n",
       "      <th>4</th>\n",
       "      <td>4</td>\n",
       "      <td>AR009211187B989185</td>\n",
       "      <td>ARTPGR61187B98B0F6</td>\n",
       "    </tr>\n",
       "    <tr>\n",
       "      <th>5</th>\n",
       "      <td>5</td>\n",
       "      <td>AR009211187B989185</td>\n",
       "      <td>ARIYH1U1187B9AF8A3</td>\n",
       "    </tr>\n",
       "    <tr>\n",
       "      <th>6</th>\n",
       "      <td>6</td>\n",
       "      <td>AR009211187B989185</td>\n",
       "      <td>ARHB1961187B9B1732</td>\n",
       "    </tr>\n",
       "    <tr>\n",
       "      <th>7</th>\n",
       "      <td>7</td>\n",
       "      <td>AR009211187B989185</td>\n",
       "      <td>ARI4SKQ1187B9B43B0</td>\n",
       "    </tr>\n",
       "    <tr>\n",
       "      <th>8</th>\n",
       "      <td>8</td>\n",
       "      <td>AR009211187B989185</td>\n",
       "      <td>AR3OSJM1187B98B95B</td>\n",
       "    </tr>\n",
       "    <tr>\n",
       "      <th>9</th>\n",
       "      <td>9</td>\n",
       "      <td>AR009211187B989185</td>\n",
       "      <td>ARIRD6J1187FB5A98C</td>\n",
       "    </tr>\n",
       "  </tbody>\n",
       "</table>\n",
       "</div>"
      ],
      "text/plain": [
       "   index              target             similar\n",
       "0      0  AR009211187B989185  ARHINI31187B995C1D\n",
       "1      1  AR009211187B989185  ARI0PUX1187FB3F215\n",
       "2      2  AR009211187B989185  AR9RTS51187B996CC8\n",
       "3      3  AR009211187B989185  ARS1DCR1187B9A4A56\n",
       "4      4  AR009211187B989185  ARTPGR61187B98B0F6\n",
       "5      5  AR009211187B989185  ARIYH1U1187B9AF8A3\n",
       "6      6  AR009211187B989185  ARHB1961187B9B1732\n",
       "7      7  AR009211187B989185  ARI4SKQ1187B9B43B0\n",
       "8      8  AR009211187B989185  AR3OSJM1187B98B95B\n",
       "9      9  AR009211187B989185  ARIRD6J1187FB5A98C"
      ]
     },
     "execution_count": 19,
     "metadata": {},
     "output_type": "execute_result"
    }
   ],
   "source": [
    "#\n",
    "# Sql\n",
    "#\n",
    "# select * \n",
    "# from artist_artist_similarty \n",
    "# limit 10\n",
    "\n",
    "q1 = 'select * from artist_artist_similarty limit 10'\n",
    "pd = (sql.read_sql_query(q1, cnx))\n",
    "pd.head(10)"
   ]
  },
  {
   "cell_type": "markdown",
   "metadata": {},
   "source": [
    "the above shows the target (artist) and similar artists\n",
    "Now, get a count of similar artists for an artists "
   ]
  },
  {
   "cell_type": "code",
   "execution_count": 20,
   "metadata": {
    "collapsed": false
   },
   "outputs": [
    {
     "data": {
      "text/html": [
       "<div>\n",
       "<table border=\"1\" class=\"dataframe\">\n",
       "  <thead>\n",
       "    <tr style=\"text-align: right;\">\n",
       "      <th></th>\n",
       "      <th>target</th>\n",
       "      <th>count</th>\n",
       "    </tr>\n",
       "  </thead>\n",
       "  <tbody>\n",
       "    <tr>\n",
       "      <th>0</th>\n",
       "      <td>ARB1LM61187FB4DDF4</td>\n",
       "      <td>47</td>\n",
       "    </tr>\n",
       "    <tr>\n",
       "      <th>1</th>\n",
       "      <td>ARF3XJD1187FB38DE0</td>\n",
       "      <td>47</td>\n",
       "    </tr>\n",
       "    <tr>\n",
       "      <th>2</th>\n",
       "      <td>ARRZFUG1187B98AD42</td>\n",
       "      <td>46</td>\n",
       "    </tr>\n",
       "    <tr>\n",
       "      <th>3</th>\n",
       "      <td>ARGUACZ1187FB3F35C</td>\n",
       "      <td>45</td>\n",
       "    </tr>\n",
       "    <tr>\n",
       "      <th>4</th>\n",
       "      <td>AR95F611187B99CE1C</td>\n",
       "      <td>44</td>\n",
       "    </tr>\n",
       "    <tr>\n",
       "      <th>5</th>\n",
       "      <td>AREB9421187FB458EF</td>\n",
       "      <td>43</td>\n",
       "    </tr>\n",
       "    <tr>\n",
       "      <th>6</th>\n",
       "      <td>ARF9BNW1187FB3F54B</td>\n",
       "      <td>43</td>\n",
       "    </tr>\n",
       "    <tr>\n",
       "      <th>7</th>\n",
       "      <td>ARGHPIE1187FB3CCDF</td>\n",
       "      <td>40</td>\n",
       "    </tr>\n",
       "    <tr>\n",
       "      <th>8</th>\n",
       "      <td>AR6ZYK41187B9996BB</td>\n",
       "      <td>39</td>\n",
       "    </tr>\n",
       "    <tr>\n",
       "      <th>9</th>\n",
       "      <td>ARC28SN1187B989049</td>\n",
       "      <td>39</td>\n",
       "    </tr>\n",
       "  </tbody>\n",
       "</table>\n",
       "</div>"
      ],
      "text/plain": [
       "               target  count\n",
       "0  ARB1LM61187FB4DDF4     47\n",
       "1  ARF3XJD1187FB38DE0     47\n",
       "2  ARRZFUG1187B98AD42     46\n",
       "3  ARGUACZ1187FB3F35C     45\n",
       "4  AR95F611187B99CE1C     44\n",
       "5  AREB9421187FB458EF     43\n",
       "6  ARF9BNW1187FB3F54B     43\n",
       "7  ARGHPIE1187FB3CCDF     40\n",
       "8  AR6ZYK41187B9996BB     39\n",
       "9  ARC28SN1187B989049     39"
      ]
     },
     "execution_count": 20,
     "metadata": {},
     "output_type": "execute_result"
    }
   ],
   "source": [
    "#\n",
    "# Sql\n",
    "#\n",
    "# select a.target, count(*) as \"count\" \n",
    "# from artist_artist_similarty a \n",
    "# group by a.target \n",
    "# order by 2 desc \n",
    "\n",
    "q1 = 'select a.target, count(*) as \"count\" from artist_artist_similarty a group by a.target order by 2 desc '\n",
    "pd = (sql.read_sql_query(q1, cnx))\n",
    "pd.head(10)"
   ]
  },
  {
   "cell_type": "markdown",
   "metadata": {},
   "source": [
    "There are many connections, select all similar artists for one artist, also join on artist_id_name to get artist name (use artist_id 'target' from above, one with 45 similar artists)"
   ]
  },
  {
   "cell_type": "code",
   "execution_count": 21,
   "metadata": {
    "collapsed": false
   },
   "outputs": [
    {
     "data": {
      "text/html": [
       "<div>\n",
       "<table border=\"1\" class=\"dataframe\">\n",
       "  <thead>\n",
       "    <tr style=\"text-align: right;\">\n",
       "      <th></th>\n",
       "      <th>artist_name</th>\n",
       "      <th>artist_name</th>\n",
       "    </tr>\n",
       "  </thead>\n",
       "  <tbody>\n",
       "    <tr>\n",
       "      <th>0</th>\n",
       "      <td>Connie Smith</td>\n",
       "      <td>Tammy Wynette</td>\n",
       "    </tr>\n",
       "    <tr>\n",
       "      <th>1</th>\n",
       "      <td>Connie Smith</td>\n",
       "      <td>Hank Locklin</td>\n",
       "    </tr>\n",
       "    <tr>\n",
       "      <th>2</th>\n",
       "      <td>Connie Smith</td>\n",
       "      <td>Ray Price</td>\n",
       "    </tr>\n",
       "    <tr>\n",
       "      <th>3</th>\n",
       "      <td>Connie Smith</td>\n",
       "      <td>Porter Wagoner</td>\n",
       "    </tr>\n",
       "    <tr>\n",
       "      <th>4</th>\n",
       "      <td>Connie Smith</td>\n",
       "      <td>Sonny James</td>\n",
       "    </tr>\n",
       "    <tr>\n",
       "      <th>5</th>\n",
       "      <td>Connie Smith</td>\n",
       "      <td>Dottie West</td>\n",
       "    </tr>\n",
       "    <tr>\n",
       "      <th>6</th>\n",
       "      <td>Connie Smith</td>\n",
       "      <td>Kitty Wells</td>\n",
       "    </tr>\n",
       "    <tr>\n",
       "      <th>7</th>\n",
       "      <td>Connie Smith</td>\n",
       "      <td>Don Gibson</td>\n",
       "    </tr>\n",
       "    <tr>\n",
       "      <th>8</th>\n",
       "      <td>Connie Smith</td>\n",
       "      <td>Donna Fargo</td>\n",
       "    </tr>\n",
       "    <tr>\n",
       "      <th>9</th>\n",
       "      <td>Connie Smith</td>\n",
       "      <td>Loretta Lynn</td>\n",
       "    </tr>\n",
       "    <tr>\n",
       "      <th>10</th>\n",
       "      <td>Connie Smith</td>\n",
       "      <td>Faron Young</td>\n",
       "    </tr>\n",
       "    <tr>\n",
       "      <th>11</th>\n",
       "      <td>Connie Smith</td>\n",
       "      <td>Charley Pride</td>\n",
       "    </tr>\n",
       "    <tr>\n",
       "      <th>12</th>\n",
       "      <td>Connie Smith</td>\n",
       "      <td>Skeeter Davis</td>\n",
       "    </tr>\n",
       "    <tr>\n",
       "      <th>13</th>\n",
       "      <td>Connie Smith</td>\n",
       "      <td>PATSY CLINE &amp; WILLIE NELSON</td>\n",
       "    </tr>\n",
       "    <tr>\n",
       "      <th>14</th>\n",
       "      <td>Connie Smith</td>\n",
       "      <td>Patsy Cline</td>\n",
       "    </tr>\n",
       "    <tr>\n",
       "      <th>15</th>\n",
       "      <td>Connie Smith</td>\n",
       "      <td>Roy Drusky</td>\n",
       "    </tr>\n",
       "    <tr>\n",
       "      <th>16</th>\n",
       "      <td>Connie Smith</td>\n",
       "      <td>Dolly Parton</td>\n",
       "    </tr>\n",
       "    <tr>\n",
       "      <th>17</th>\n",
       "      <td>Connie Smith</td>\n",
       "      <td>Charlie Rich</td>\n",
       "    </tr>\n",
       "    <tr>\n",
       "      <th>18</th>\n",
       "      <td>Connie Smith</td>\n",
       "      <td>Barbara Fairchild</td>\n",
       "    </tr>\n",
       "    <tr>\n",
       "      <th>19</th>\n",
       "      <td>Connie Smith</td>\n",
       "      <td>Jeanne Pruett</td>\n",
       "    </tr>\n",
       "  </tbody>\n",
       "</table>\n",
       "</div>"
      ],
      "text/plain": [
       "     artist_name                  artist_name\n",
       "0   Connie Smith                Tammy Wynette\n",
       "1   Connie Smith                 Hank Locklin\n",
       "2   Connie Smith                    Ray Price\n",
       "3   Connie Smith               Porter Wagoner\n",
       "4   Connie Smith                  Sonny James\n",
       "5   Connie Smith                  Dottie West\n",
       "6   Connie Smith                  Kitty Wells\n",
       "7   Connie Smith                   Don Gibson\n",
       "8   Connie Smith                  Donna Fargo\n",
       "9   Connie Smith                 Loretta Lynn\n",
       "10  Connie Smith                  Faron Young\n",
       "11  Connie Smith                Charley Pride\n",
       "12  Connie Smith                Skeeter Davis\n",
       "13  Connie Smith  PATSY CLINE & WILLIE NELSON\n",
       "14  Connie Smith                  Patsy Cline\n",
       "15  Connie Smith                   Roy Drusky\n",
       "16  Connie Smith                 Dolly Parton\n",
       "17  Connie Smith                 Charlie Rich\n",
       "18  Connie Smith            Barbara Fairchild\n",
       "19  Connie Smith                Jeanne Pruett"
      ]
     },
     "execution_count": 21,
     "metadata": {},
     "output_type": "execute_result"
    }
   ],
   "source": [
    "#\n",
    "# Sql\n",
    "#\n",
    "# select b.artist_name, c.artist_name \n",
    "# from artist_artist_similarty a \n",
    "#      inner join artist_id_name b \n",
    "#          on a.target = b.artist_id  \n",
    "#      inner join artist_id_name c \n",
    "#          on a.similar = c.artist_id  \n",
    "# where a.target = \"ARGUACZ1187FB3F35C\" \n",
    "\n",
    "q1 = 'select b.artist_name, c.artist_name from artist_artist_similarty a inner join artist_id_name b on a.target = b.artist_id  inner join artist_id_name c on a.similar = c.artist_id  where a.target = \"ARGUACZ1187FB3F35C\" '\n",
    "pd = (sql.read_sql_query(q1, cnx))\n",
    "pd.head(20)"
   ]
  },
  {
   "cell_type": "markdown",
   "metadata": {},
   "source": [
    "The artist - artist connections are looking good\n",
    "Now, get the avg number of similar artists for an artist"
   ]
  },
  {
   "cell_type": "code",
   "execution_count": 22,
   "metadata": {
    "collapsed": false
   },
   "outputs": [
    {
     "data": {
      "text/html": [
       "<div>\n",
       "<table border=\"1\" class=\"dataframe\">\n",
       "  <thead>\n",
       "    <tr style=\"text-align: right;\">\n",
       "      <th></th>\n",
       "      <th>avg(a.count)</th>\n",
       "    </tr>\n",
       "  </thead>\n",
       "  <tbody>\n",
       "    <tr>\n",
       "      <th>0</th>\n",
       "      <td>11.409719</td>\n",
       "    </tr>\n",
       "  </tbody>\n",
       "</table>\n",
       "</div>"
      ],
      "text/plain": [
       "   avg(a.count)\n",
       "0     11.409719"
      ]
     },
     "execution_count": 22,
     "metadata": {},
     "output_type": "execute_result"
    }
   ],
   "source": [
    "#\n",
    "# Sql\n",
    "#\n",
    "# select avg(a.count) \n",
    "# from (select count(*) as \"count\"  \n",
    "#       from artist_artist_similarty \n",
    "#       group by target) a\n",
    "\n",
    "q1 = 'select avg(a.count) from (select count(*) as \"count\" from artist_artist_similarty group by target) a '\n",
    "pd = (sql.read_sql_query(q1, cnx))\n",
    "pd.head()"
   ]
  },
  {
   "cell_type": "markdown",
   "metadata": {},
   "source": [
    "An avg of 11 similar artists for a given artist is plenty for connections  "
   ]
  },
  {
   "cell_type": "code",
   "execution_count": 31,
   "metadata": {
    "collapsed": false
   },
   "outputs": [
    {
     "data": {
      "image/png": "[encoded data removed]",
      "text/plain": [
       "<matplotlib.figure.Figure at 0x3908590>"
      ]
     },
     "metadata": {},
     "output_type": "display_data"
    }
   ],
   "source": [
    "#\n",
    "# Sql\n",
    "#\n",
    "# select a.SimilarPerArtist, count(*) as \"NumberOfArtists\" \n",
    "# from ( select count(*) as \"SimilarPerArtist\" \n",
    "#        from artist_artist_similarty \n",
    "#        group by target) a \n",
    "# group by a.SimilarPerArtist \n",
    "# order by 1 desc '\n",
    "\n",
    "q1 = 'select a.SimilarPerArtist, count(*) as \"NumberOfArtists\" from ( select count(*) as \"SimilarPerArtist\" from artist_artist_similarty group by target) a group by a.SimilarPerArtist order by 1 '\n",
    "pd = (sql.read_sql_query(q1, cnx))\n",
    "\n",
    "plot1 = pd.plot(kind='bar',x='SimilarPerArtist',y='NumberOfArtists',figsize=(15, 6))\n",
    "plot1 = plot1.set(title=\"Artists that have similar artists\",xlabel=\"Number of Similar Artists\",ylabel=\"Artists\")\n",
    "\n",
    "# Note on plot below, this plot the number of artists that have a given number of similar artists \n",
    "\n",
    "#pd.plot.scatter(x='SimilarPerArtist', y='NumberOfArtists', s=pd['NumberOfArtists']);"
   ]
  },
  {
   "cell_type": "code",
   "execution_count": 34,
   "metadata": {
    "collapsed": false
   },
   "outputs": [
    {
     "data": {
      "image/png": "[encoded data removed]",
      "text/plain": [
       "<matplotlib.figure.Figure at 0x3ffbe30>"
      ]
     },
     "metadata": {},
     "output_type": "display_data"
    }
   ],
   "source": [
    "#   This is the reverse of the previous Query, \n",
    "\n",
    "\n",
    "# Sql\n",
    "#\n",
    "# select a.NumberOfArtists, count(*) as \"SimilarPerArtist\" \n",
    "# from ( select count(*) as \"NumberOfArtists\" \n",
    "#        from artist_artist_similarty \n",
    "#        group by similar) a \n",
    "# group by a.NumberOfArtists \n",
    "# order by 1 '\n",
    "\n",
    "q1= 'select a.NumberOfArtists, count(*) as \"SimilarPerArtist\" from ( select count(*) as \"NumberOfArtists\" from artist_artist_similarty group by similar) a group by a.NumberOfArtists order by 1 '\n",
    "pd = (sql.read_sql_query(q1, cnx))\n",
    "\n",
    "plot1 = pd.plot(kind='bar',x='NumberOfArtists',y='SimilarPerArtist',figsize=(15, 6))\n",
    "plot1 = plot1.set(title=\"Similar  that have target artists\",xlabel=\"Number of Artists\",ylabel=\"Similar Artists\")\n",
    "\n",
    "# Note on plot below, this plot the number of artists that have a given number of similar artists \n",
    "\n",
    "# ALSO, reading the graph below, these is a similar artist  that is associated with 143 target artists, Thats a lot, after running\n",
    "# query below, i found the similar band is The Rolling Stones, that now makes sence. \n",
    "\n",
    " "
   ]
  },
  {
   "cell_type": "code",
   "execution_count": 42,
   "metadata": {
    "collapsed": false
   },
   "outputs": [
    {
     "data": {
      "text/html": [
       "<div>\n",
       "<table border=\"1\" class=\"dataframe\">\n",
       "  <thead>\n",
       "    <tr style=\"text-align: right;\">\n",
       "      <th></th>\n",
       "      <th>artist_name</th>\n",
       "      <th>count</th>\n",
       "    </tr>\n",
       "  </thead>\n",
       "  <tbody>\n",
       "    <tr>\n",
       "      <th>0</th>\n",
       "      <td>The Rolling Stones</td>\n",
       "      <td>143</td>\n",
       "    </tr>\n",
       "    <tr>\n",
       "      <th>1</th>\n",
       "      <td>Led Zeppelin</td>\n",
       "      <td>98</td>\n",
       "    </tr>\n",
       "    <tr>\n",
       "      <th>2</th>\n",
       "      <td>The Beatles</td>\n",
       "      <td>97</td>\n",
       "    </tr>\n",
       "    <tr>\n",
       "      <th>3</th>\n",
       "      <td>The Beatles / Tony Sheridan</td>\n",
       "      <td>97</td>\n",
       "    </tr>\n",
       "    <tr>\n",
       "      <th>4</th>\n",
       "      <td>Sonny Landreth</td>\n",
       "      <td>86</td>\n",
       "    </tr>\n",
       "  </tbody>\n",
       "</table>\n",
       "</div>"
      ],
      "text/plain": [
       "                   artist_name  count\n",
       "0           The Rolling Stones    143\n",
       "1                 Led Zeppelin     98\n",
       "2                  The Beatles     97\n",
       "3  The Beatles / Tony Sheridan     97\n",
       "4               Sonny Landreth     86"
      ]
     },
     "execution_count": 42,
     "metadata": {},
     "output_type": "execute_result"
    }
   ],
   "source": [
    " q1= ' select a.artist_name, b.count from  artist_id_name a  inner join (select similar, count(*) as \"count\"  from artist_artist_similarty group by similar ) b on a.artist_id = b.similar order by  2 desc limit 5 '\n",
    "pd = (sql.read_sql_query(q1, cnx))\n",
    "pd.head()\n",
    "\n",
    "#the list below is are the top ranked bands other artists are said to be similar to (rolling stones has 143 artist that are said to be similar to them)"
   ]
  },
  {
   "cell_type": "markdown",
   "metadata": {},
   "source": [
    "####### Now, check if any artists with similar artists have no songs OR artists with songs have enteries on the similar table\n",
    "(note : As both columns on the artist_artist_similar table as artist_ID values (target and similar), i check both on the artist\n",
    "table. I did this in one sql statement using a join, just easier to see results together.\n",
    "\n",
    "####### Summary of below\n",
    "\n",
    "All artists on the artist_artist_similar table have a song on the songs table, there are about 3700 of these, good.\n",
    "There are about about 530 artists on the songs table are without a target reference on the artist_artist_similarty table"
   ]
  },
  {
   "cell_type": "code",
   "execution_count": 24,
   "metadata": {
    "collapsed": false
   },
   "outputs": [
    {
     "data": {
      "text/html": [
       "<div>\n",
       "<table border=\"1\" class=\"dataframe\">\n",
       "  <thead>\n",
       "    <tr style=\"text-align: right;\">\n",
       "      <th></th>\n",
       "      <th>\"Num of Artists in similar w/o songs\"</th>\n",
       "      <th>count</th>\n",
       "    </tr>\n",
       "  </thead>\n",
       "  <tbody>\n",
       "    <tr>\n",
       "      <th>0</th>\n",
       "      <td>Num of Artists in similar w/o songs</td>\n",
       "      <td>0</td>\n",
       "    </tr>\n",
       "    <tr>\n",
       "      <th>1</th>\n",
       "      <td>Num of similar Artists in similar w/o songs</td>\n",
       "      <td>0</td>\n",
       "    </tr>\n",
       "  </tbody>\n",
       "</table>\n",
       "</div>"
      ],
      "text/plain": [
       "         \"Num of Artists in similar w/o songs\"  count\n",
       "0          Num of Artists in similar w/o songs      0\n",
       "1  Num of similar Artists in similar w/o songs      0"
      ]
     },
     "execution_count": 24,
     "metadata": {},
     "output_type": "execute_result"
    }
   ],
   "source": [
    "# select a count of artists on the artist_artist_similar table that do not have a song, use union (check against artist_id_name table)\n",
    "\n",
    "#\n",
    "# Sql\n",
    "#\n",
    "# select \"Num of Artists in similar w/o songs\", count(*) as \"count\" \n",
    "# from artist_artist_similarty \n",
    "# where target not in (select artist_id \n",
    "#                      from artist_id_name) \n",
    "# union \n",
    "# select \"Num of similar Artists in similar w/o songs\", count(*) as \"count\" \n",
    "# from artist_artist_similarty \n",
    "# where similar not in (select artist_id \n",
    "#                       from artist_id_name) \n",
    "\n",
    "\n",
    "q1='select \"Num of Artists in similar w/o songs\", count(*) as \"count\" from artist_artist_similarty where target not in (select artist_id from artist_id_name) union select \"Num of similar Artists in similar w/o songs\", count(*) as \"count\" from artist_artist_similarty where similar not in (select artist_id from artist_id_name) '\n",
    "pd = (sql.read_sql_query(q1, cnx))\n",
    "pd.head(10) "
   ]
  },
  {
   "cell_type": "code",
   "execution_count": 25,
   "metadata": {
    "collapsed": false
   },
   "outputs": [
    {
     "data": {
      "text/html": [
       "<div>\n",
       "<table border=\"1\" class=\"dataframe\">\n",
       "  <thead>\n",
       "    <tr style=\"text-align: right;\">\n",
       "      <th></th>\n",
       "      <th>\"No of Artists on Songs w/o similar\"</th>\n",
       "      <th>count</th>\n",
       "    </tr>\n",
       "  </thead>\n",
       "  <tbody>\n",
       "    <tr>\n",
       "      <th>0</th>\n",
       "      <td>No of Artists on Songs w/o matched Artists</td>\n",
       "      <td>532</td>\n",
       "    </tr>\n",
       "    <tr>\n",
       "      <th>1</th>\n",
       "      <td>No of Artists on Songs w/o similar</td>\n",
       "      <td>127</td>\n",
       "    </tr>\n",
       "  </tbody>\n",
       "</table>\n",
       "</div>"
      ],
      "text/plain": [
       "         \"No of Artists on Songs w/o similar\"  count\n",
       "0  No of Artists on Songs w/o matched Artists    532\n",
       "1          No of Artists on Songs w/o similar    127"
      ]
     },
     "execution_count": 25,
     "metadata": {},
     "output_type": "execute_result"
    }
   ],
   "source": [
    "# select a count of artists on the artist_artist_similar table that do not have a song, use union (check against artist_id_name table)\n",
    "\n",
    "#\n",
    "# Sql\n",
    "#\n",
    "# select \"No of Artists on Songs w/o similar\", count(*) as \"count\" \n",
    "# from artist_id_name \n",
    "# where artist_id not in (select target \n",
    "#                         from artist_artist_similarty) \n",
    "# union \n",
    "# select \"No of Artists on Songs w/o matched Artists\", count(*) as \"count\" \n",
    "# from artist_id_name \n",
    "# where artist_id not in (select similar \n",
    "#                         from artist_artist_similarty) \n",
    "\n",
    "q1='select \"No of Artists on Songs w/o similar\", count(*) as \"count\" from artist_id_name where artist_id not in (select target from artist_artist_similarty) union select \"No of Artists on Songs w/o matched Artists\", count(*) as \"count\" from artist_id_name where artist_id not in (select similar from artist_artist_similarty) '\n",
    "pd = (sql.read_sql_query(q1, cnx))\n",
    "pd.head(10) "
   ]
  },
  {
   "cell_type": "code",
   "execution_count": 26,
   "metadata": {
    "collapsed": false
   },
   "outputs": [
    {
     "data": {
      "text/html": [
       "<div>\n",
       "<table border=\"1\" class=\"dataframe\">\n",
       "  <thead>\n",
       "    <tr style=\"text-align: right;\">\n",
       "      <th></th>\n",
       "      <th>count(distinct target )</th>\n",
       "    </tr>\n",
       "  </thead>\n",
       "  <tbody>\n",
       "    <tr>\n",
       "      <th>0</th>\n",
       "      <td>3766</td>\n",
       "    </tr>\n",
       "  </tbody>\n",
       "</table>\n",
       "</div>"
      ],
      "text/plain": [
       "   count(distinct target )\n",
       "0                     3766"
      ]
     },
     "execution_count": 26,
     "metadata": {},
     "output_type": "execute_result"
    }
   ],
   "source": [
    "# do a count of distinct targets (artist_ids) on the artist_artist_similar table \n",
    "\n",
    "#\n",
    "# Sql\n",
    "#\n",
    "# select count(distinct target ) \n",
    "# from artist_artist_similarty\n",
    "\n",
    "q1='select count(distinct target ) from artist_artist_similarty'\n",
    "pd = (sql.read_sql_query(q1, cnx))\n",
    "pd.head(10) "
   ]
  },
  {
   "cell_type": "code",
   "execution_count": null,
   "metadata": {
    "collapsed": true
   },
   "outputs": [],
   "source": []
  }
 ],
 "metadata": {
  "anaconda-cloud": {},
  "celltoolbar": "Raw Cell Format",
  "kernelspec": {
   "display_name": "Python [Root]",
   "language": "python",
   "name": "Python [Root]"
  },
  "language_info": {
   "codemirror_mode": {
    "name": "ipython",
    "version": 3
   },
   "file_extension": ".py",
   "mimetype": "text/x-python",
   "name": "python",
   "nbconvert_exporter": "python",
   "pygments_lexer": "ipython3",
   "version": "3.5.2"
  }
 },
 "nbformat": 4,
 "nbformat_minor": 0
}
