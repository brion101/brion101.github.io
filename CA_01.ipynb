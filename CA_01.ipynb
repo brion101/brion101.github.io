{
 "cells": [
  {
   "cell_type": "markdown",
   "metadata": {},
   "source": [
    "Name       : Brion Mallon\n",
    "\n",
    "Student no : 1756894 \n",
    "\n",
    "C A 1      : Choose an input file and apply various statistical processes \n",
    "\n",
    "Input      : Use a songs metadata file contains a 10,000 record subset of http://labrosa.ee.columbia.edu/millionsong/\n",
    "\n",
    "Process    : Apply the following actions \n",
    "\n",
    "           - Matplotlib Scatterplot two of the attributes against each other.\n",
    "           - Including titles, headings etc for all plots\n",
    "           - Calculate summary statistics for each of 2 attributes (mean, median, variance or similar)\n",
    "           - Take a numerical attribute, and bin it into categories, and plot it somehow.\n",
    "\n",
    "Songs file : this file contains 10,000 entries with track, artist, year and other attributes  \n"
   ]
  },
  {
   "cell_type": "markdown",
   "metadata": {},
   "source": [
    "Start By importing required packages, get input songs file ( save numeric values in correct format, for speed when doing calculations)"
   ]
  },
  {
   "cell_type": "code",
   "execution_count": 36,
   "metadata": {
    "collapsed": true
   },
   "outputs": [],
   "source": [
    "%matplotlib inline\n",
    "import matplotlib as plt\n",
    "import pandas as pd\n",
    "import numpy as np"
   ]
  },
  {
   "cell_type": "code",
   "execution_count": 37,
   "metadata": {
    "collapsed": false
   },
   "outputs": [],
   "source": [
    "songs = pd.read_csv(\"songs.csv\",  dtype={'artist_familiarity': float,'artist_hotttnesss': float, 'year': int})  "
   ]
  },
  {
   "cell_type": "code",
   "execution_count": 23,
   "metadata": {
    "collapsed": false,
    "scrolled": true
   },
   "outputs": [
    {
     "data": {
      "text/html": [
       "<div>\n",
       "<table border=\"1\" class=\"dataframe\">\n",
       "  <thead>\n",
       "    <tr style=\"text-align: right;\">\n",
       "      <th></th>\n",
       "      <th>track_id</th>\n",
       "      <th>title</th>\n",
       "      <th>song_id</th>\n",
       "      <th>release</th>\n",
       "      <th>artist_id</th>\n",
       "      <th>artist_mbid</th>\n",
       "      <th>artist_name</th>\n",
       "      <th>duration</th>\n",
       "      <th>artist_familiarity</th>\n",
       "      <th>artist_hotttnesss</th>\n",
       "      <th>year</th>\n",
       "    </tr>\n",
       "  </thead>\n",
       "  <tbody>\n",
       "    <tr>\n",
       "      <th>0</th>\n",
       "      <td>TRACCVZ128F4291A8A</td>\n",
       "      <td>Deep Sea Creature</td>\n",
       "      <td>SOVLGJY12A8C13FBED</td>\n",
       "      <td>Call of the Mastodon</td>\n",
       "      <td>ARMQHX71187B9890D3</td>\n",
       "      <td>bc5e2ad6-0a4a-4d90-b911-e9a7e6861727</td>\n",
       "      <td>Mastodon</td>\n",
       "      <td>280.21506</td>\n",
       "      <td>0.780462</td>\n",
       "      <td>0.574275</td>\n",
       "      <td>2001</td>\n",
       "    </tr>\n",
       "    <tr>\n",
       "      <th>1</th>\n",
       "      <td>TRACCMH128F428E4CD</td>\n",
       "      <td>No Quieras Marcharte</td>\n",
       "      <td>SOGDQZK12A8C13F37C</td>\n",
       "      <td>Adelante</td>\n",
       "      <td>AR2PT4M1187FB55B1A</td>\n",
       "      <td>d54ea4a6-0b9c-4e47-bed0-289ae9ff4037</td>\n",
       "      <td>Los Chichos</td>\n",
       "      <td>191.68608</td>\n",
       "      <td>0.561590</td>\n",
       "      <td>0.420570</td>\n",
       "      <td>1984</td>\n",
       "    </tr>\n",
       "    <tr>\n",
       "      <th>2</th>\n",
       "      <td>TRACCSW128F148C7C3</td>\n",
       "      <td>If I...</td>\n",
       "      <td>SODMVJR12A6D4F985D</td>\n",
       "      <td>Ill Na Na</td>\n",
       "      <td>ARDI88R1187B98DAB2</td>\n",
       "      <td>fd87374e-ffde-4d36-89a8-8a073f795666</td>\n",
       "      <td>Foxy Brown</td>\n",
       "      <td>222.92853</td>\n",
       "      <td>0.687687</td>\n",
       "      <td>0.406686</td>\n",
       "      <td>0</td>\n",
       "    </tr>\n",
       "    <tr>\n",
       "      <th>3</th>\n",
       "      <td>TRACCXJ128F428F0CF</td>\n",
       "      <td>Werther - Lyric Drama in four Acts/Act I/Alors...</td>\n",
       "      <td>SOIWBDR12A8C13A4AC</td>\n",
       "      <td>Massenet: Werther</td>\n",
       "      <td>ARUKJUP12086C14589</td>\n",
       "      <td>8a5f2736-bcde-4a2e-8d50-72631d66a7ef</td>\n",
       "      <td>Ramón Vargas;Vladimir Jurowski</td>\n",
       "      <td>278.38649</td>\n",
       "      <td>0.391741</td>\n",
       "      <td>0.291265</td>\n",
       "      <td>0</td>\n",
       "    </tr>\n",
       "    <tr>\n",
       "      <th>4</th>\n",
       "      <td>TRACCVS12903D014F8</td>\n",
       "      <td>Ad Te Clamamus Exsvles Mortva Liberi</td>\n",
       "      <td>SOHCCIA12AC907577F</td>\n",
       "      <td>Pentagrammaton</td>\n",
       "      <td>ARZEWUR1187FB53DC8</td>\n",
       "      <td>0be59867-0da4-4e45-9b64-728cdf25487c</td>\n",
       "      <td>Enthroned</td>\n",
       "      <td>89.15546</td>\n",
       "      <td>0.593416</td>\n",
       "      <td>0.395710</td>\n",
       "      <td>2010</td>\n",
       "    </tr>\n",
       "    <tr>\n",
       "      <th>5</th>\n",
       "      <td>TRACCKS128F42B77AE</td>\n",
       "      <td>Murder One</td>\n",
       "      <td>SOBOAQC12A8C13E3E9</td>\n",
       "      <td>BTNHRESURRECTION</td>\n",
       "      <td>ARUZRFN1187B98AC05</td>\n",
       "      <td>2fa45bbb-0efb-4950-9d40-94bf23cbfec1</td>\n",
       "      <td>Bone Thugs-N-Harmony</td>\n",
       "      <td>255.73832</td>\n",
       "      <td>0.815923</td>\n",
       "      <td>0.555138</td>\n",
       "      <td>2000</td>\n",
       "    </tr>\n",
       "    <tr>\n",
       "      <th>6</th>\n",
       "      <td>TRACCQM12903CACC1E</td>\n",
       "      <td>On My Feet Again</td>\n",
       "      <td>SOKVLHX12AB0187B39</td>\n",
       "      <td>Utopia</td>\n",
       "      <td>ARHBWOZ1187FB3FD53</td>\n",
       "      <td>e6ff2839-5ccb-451b-b07e-f485bc143118</td>\n",
       "      <td>Utopia</td>\n",
       "      <td>239.59465</td>\n",
       "      <td>0.543937</td>\n",
       "      <td>0.430300</td>\n",
       "      <td>0</td>\n",
       "    </tr>\n",
       "    <tr>\n",
       "      <th>7</th>\n",
       "      <td>TRACCUS128F92E1FEB</td>\n",
       "      <td>Bedroom Acoustics</td>\n",
       "      <td>SOMMSMW12A8C13FCCC</td>\n",
       "      <td>Plug In Baby</td>\n",
       "      <td>ARR3ONV1187B9A2F59</td>\n",
       "      <td>fd857293-5ab8-40de-b29e-55a69d4e4d0f</td>\n",
       "      <td>Muse</td>\n",
       "      <td>156.96934</td>\n",
       "      <td>0.929030</td>\n",
       "      <td>0.750427</td>\n",
       "      <td>0</td>\n",
       "    </tr>\n",
       "    <tr>\n",
       "      <th>8</th>\n",
       "      <td>TRACCJA128F149A144</td>\n",
       "      <td>Segredo</td>\n",
       "      <td>SODPNJR12A6D4FA52D</td>\n",
       "      <td>Joao Voz E Violato</td>\n",
       "      <td>AR3THYK1187B999F1F</td>\n",
       "      <td>286ec4c2-b5ca-4f85-b331-280a6d73dd14</td>\n",
       "      <td>João Gilberto</td>\n",
       "      <td>197.19791</td>\n",
       "      <td>0.645192</td>\n",
       "      <td>0.471224</td>\n",
       "      <td>2000</td>\n",
       "    </tr>\n",
       "    <tr>\n",
       "      <th>9</th>\n",
       "      <td>TRACCGB12903CD1B90</td>\n",
       "      <td>Sajana (Ft Faheem Mazhar)</td>\n",
       "      <td>SOFFLLP12AB018ED52</td>\n",
       "      <td>The Lost Souls Bonus EP</td>\n",
       "      <td>ARFELOH1187B991F95</td>\n",
       "      <td>65b785d9-499f-48e6-9063-3a1fd1bd488d</td>\n",
       "      <td>Niraj Chag</td>\n",
       "      <td>262.58240</td>\n",
       "      <td>0.495819</td>\n",
       "      <td>0.342765</td>\n",
       "      <td>0</td>\n",
       "    </tr>\n",
       "  </tbody>\n",
       "</table>\n",
       "</div>"
      ],
      "text/plain": [
       "             track_id                                              title  \\\n",
       "0  TRACCVZ128F4291A8A                                  Deep Sea Creature   \n",
       "1  TRACCMH128F428E4CD                               No Quieras Marcharte   \n",
       "2  TRACCSW128F148C7C3                                            If I...   \n",
       "3  TRACCXJ128F428F0CF  Werther - Lyric Drama in four Acts/Act I/Alors...   \n",
       "4  TRACCVS12903D014F8               Ad Te Clamamus Exsvles Mortva Liberi   \n",
       "5  TRACCKS128F42B77AE                                         Murder One   \n",
       "6  TRACCQM12903CACC1E                                   On My Feet Again   \n",
       "7  TRACCUS128F92E1FEB                                  Bedroom Acoustics   \n",
       "8  TRACCJA128F149A144                                            Segredo   \n",
       "9  TRACCGB12903CD1B90                          Sajana (Ft Faheem Mazhar)   \n",
       "\n",
       "              song_id                  release           artist_id  \\\n",
       "0  SOVLGJY12A8C13FBED     Call of the Mastodon  ARMQHX71187B9890D3   \n",
       "1  SOGDQZK12A8C13F37C                 Adelante  AR2PT4M1187FB55B1A   \n",
       "2  SODMVJR12A6D4F985D                Ill Na Na  ARDI88R1187B98DAB2   \n",
       "3  SOIWBDR12A8C13A4AC        Massenet: Werther  ARUKJUP12086C14589   \n",
       "4  SOHCCIA12AC907577F           Pentagrammaton  ARZEWUR1187FB53DC8   \n",
       "5  SOBOAQC12A8C13E3E9         BTNHRESURRECTION  ARUZRFN1187B98AC05   \n",
       "6  SOKVLHX12AB0187B39                   Utopia  ARHBWOZ1187FB3FD53   \n",
       "7  SOMMSMW12A8C13FCCC             Plug In Baby  ARR3ONV1187B9A2F59   \n",
       "8  SODPNJR12A6D4FA52D       Joao Voz E Violato  AR3THYK1187B999F1F   \n",
       "9  SOFFLLP12AB018ED52  The Lost Souls Bonus EP  ARFELOH1187B991F95   \n",
       "\n",
       "                            artist_mbid                     artist_name  \\\n",
       "0  bc5e2ad6-0a4a-4d90-b911-e9a7e6861727                        Mastodon   \n",
       "1  d54ea4a6-0b9c-4e47-bed0-289ae9ff4037                     Los Chichos   \n",
       "2  fd87374e-ffde-4d36-89a8-8a073f795666                      Foxy Brown   \n",
       "3  8a5f2736-bcde-4a2e-8d50-72631d66a7ef  Ramón Vargas;Vladimir Jurowski   \n",
       "4  0be59867-0da4-4e45-9b64-728cdf25487c                       Enthroned   \n",
       "5  2fa45bbb-0efb-4950-9d40-94bf23cbfec1            Bone Thugs-N-Harmony   \n",
       "6  e6ff2839-5ccb-451b-b07e-f485bc143118                          Utopia   \n",
       "7  fd857293-5ab8-40de-b29e-55a69d4e4d0f                            Muse   \n",
       "8  286ec4c2-b5ca-4f85-b331-280a6d73dd14                   João Gilberto   \n",
       "9  65b785d9-499f-48e6-9063-3a1fd1bd488d                      Niraj Chag   \n",
       "\n",
       "    duration  artist_familiarity  artist_hotttnesss  year  \n",
       "0  280.21506            0.780462           0.574275  2001  \n",
       "1  191.68608            0.561590           0.420570  1984  \n",
       "2  222.92853            0.687687           0.406686     0  \n",
       "3  278.38649            0.391741           0.291265     0  \n",
       "4   89.15546            0.593416           0.395710  2010  \n",
       "5  255.73832            0.815923           0.555138  2000  \n",
       "6  239.59465            0.543937           0.430300     0  \n",
       "7  156.96934            0.929030           0.750427     0  \n",
       "8  197.19791            0.645192           0.471224  2000  \n",
       "9  262.58240            0.495819           0.342765     0  "
      ]
     },
     "execution_count": 23,
     "metadata": {},
     "output_type": "execute_result"
    }
   ],
   "source": [
    "songs.head(10)"
   ]
  },
  {
   "cell_type": "markdown",
   "metadata": {},
   "source": [
    "After reviewing the file above, there are several ID fields not required for this process, rewrite DataFrame without these columns\n",
    "\n",
    "Remove following \n",
    "Track_id\n",
    "song_id\n",
    "artist_id\n",
    "artist_mbid\n",
    "\n",
    "Also, only select tracks from last 50 years \n"
   ]
  },
  {
   "cell_type": "code",
   "execution_count": 48,
   "metadata": {
    "collapsed": false,
    "scrolled": true
   },
   "outputs": [
    {
     "data": {
      "text/html": [
       "<div>\n",
       "<table border=\"1\" class=\"dataframe\">\n",
       "  <thead>\n",
       "    <tr style=\"text-align: right;\">\n",
       "      <th></th>\n",
       "      <th>title</th>\n",
       "      <th>release</th>\n",
       "      <th>artist_name</th>\n",
       "      <th>duration</th>\n",
       "      <th>artist_familiarity</th>\n",
       "      <th>artist_hotttnesss</th>\n",
       "      <th>year</th>\n",
       "    </tr>\n",
       "  </thead>\n",
       "  <tbody>\n",
       "    <tr>\n",
       "      <th>0</th>\n",
       "      <td>Deep Sea Creature</td>\n",
       "      <td>Call of the Mastodon</td>\n",
       "      <td>Mastodon</td>\n",
       "      <td>280.21506</td>\n",
       "      <td>0.780462</td>\n",
       "      <td>0.574275</td>\n",
       "      <td>2001</td>\n",
       "    </tr>\n",
       "    <tr>\n",
       "      <th>1</th>\n",
       "      <td>No Quieras Marcharte</td>\n",
       "      <td>Adelante</td>\n",
       "      <td>Los Chichos</td>\n",
       "      <td>191.68608</td>\n",
       "      <td>0.561590</td>\n",
       "      <td>0.420570</td>\n",
       "      <td>1984</td>\n",
       "    </tr>\n",
       "    <tr>\n",
       "      <th>4</th>\n",
       "      <td>Ad Te Clamamus Exsvles Mortva Liberi</td>\n",
       "      <td>Pentagrammaton</td>\n",
       "      <td>Enthroned</td>\n",
       "      <td>89.15546</td>\n",
       "      <td>0.593416</td>\n",
       "      <td>0.395710</td>\n",
       "      <td>2010</td>\n",
       "    </tr>\n",
       "    <tr>\n",
       "      <th>5</th>\n",
       "      <td>Murder One</td>\n",
       "      <td>BTNHRESURRECTION</td>\n",
       "      <td>Bone Thugs-N-Harmony</td>\n",
       "      <td>255.73832</td>\n",
       "      <td>0.815923</td>\n",
       "      <td>0.555138</td>\n",
       "      <td>2000</td>\n",
       "    </tr>\n",
       "    <tr>\n",
       "      <th>8</th>\n",
       "      <td>Segredo</td>\n",
       "      <td>Joao Voz E Violato</td>\n",
       "      <td>João Gilberto</td>\n",
       "      <td>197.19791</td>\n",
       "      <td>0.645192</td>\n",
       "      <td>0.471224</td>\n",
       "      <td>2000</td>\n",
       "    </tr>\n",
       "    <tr>\n",
       "      <th>10</th>\n",
       "      <td>Theresa</td>\n",
       "      <td>Distance</td>\n",
       "      <td>Portable</td>\n",
       "      <td>362.60526</td>\n",
       "      <td>0.532851</td>\n",
       "      <td>0.302930</td>\n",
       "      <td>2003</td>\n",
       "    </tr>\n",
       "    <tr>\n",
       "      <th>16</th>\n",
       "      <td>No Survivors</td>\n",
       "      <td>Maximum Speed</td>\n",
       "      <td>Speedball</td>\n",
       "      <td>212.21832</td>\n",
       "      <td>0.486679</td>\n",
       "      <td>0.362501</td>\n",
       "      <td>1998</td>\n",
       "    </tr>\n",
       "    <tr>\n",
       "      <th>17</th>\n",
       "      <td>Her Golden Robe In Silence Veiled</td>\n",
       "      <td>DämmerElbenTragödie</td>\n",
       "      <td>Autumnblaze</td>\n",
       "      <td>286.24934</td>\n",
       "      <td>0.493891</td>\n",
       "      <td>0.355496</td>\n",
       "      <td>1999</td>\n",
       "    </tr>\n",
       "    <tr>\n",
       "      <th>18</th>\n",
       "      <td>Same Old Song</td>\n",
       "      <td>Original Album Classics</td>\n",
       "      <td>Kris Kristofferson</td>\n",
       "      <td>194.37669</td>\n",
       "      <td>0.732394</td>\n",
       "      <td>0.496224</td>\n",
       "      <td>1974</td>\n",
       "    </tr>\n",
       "    <tr>\n",
       "      <th>19</th>\n",
       "      <td>The Ride (Album)</td>\n",
       "      <td>House Full Of No Trust</td>\n",
       "      <td>Cinder</td>\n",
       "      <td>218.61832</td>\n",
       "      <td>0.553194</td>\n",
       "      <td>0.359807</td>\n",
       "      <td>2006</td>\n",
       "    </tr>\n",
       "  </tbody>\n",
       "</table>\n",
       "</div>"
      ],
      "text/plain": [
       "                                   title                  release  \\\n",
       "0                      Deep Sea Creature     Call of the Mastodon   \n",
       "1                   No Quieras Marcharte                 Adelante   \n",
       "4   Ad Te Clamamus Exsvles Mortva Liberi           Pentagrammaton   \n",
       "5                             Murder One         BTNHRESURRECTION   \n",
       "8                                Segredo       Joao Voz E Violato   \n",
       "10                               Theresa                 Distance   \n",
       "16                          No Survivors            Maximum Speed   \n",
       "17     Her Golden Robe In Silence Veiled      DämmerElbenTragödie   \n",
       "18                         Same Old Song  Original Album Classics   \n",
       "19                      The Ride (Album)   House Full Of No Trust   \n",
       "\n",
       "             artist_name   duration  artist_familiarity  artist_hotttnesss  \\\n",
       "0               Mastodon  280.21506            0.780462           0.574275   \n",
       "1            Los Chichos  191.68608            0.561590           0.420570   \n",
       "4              Enthroned   89.15546            0.593416           0.395710   \n",
       "5   Bone Thugs-N-Harmony  255.73832            0.815923           0.555138   \n",
       "8          João Gilberto  197.19791            0.645192           0.471224   \n",
       "10              Portable  362.60526            0.532851           0.302930   \n",
       "16             Speedball  212.21832            0.486679           0.362501   \n",
       "17           Autumnblaze  286.24934            0.493891           0.355496   \n",
       "18    Kris Kristofferson  194.37669            0.732394           0.496224   \n",
       "19                Cinder  218.61832            0.553194           0.359807   \n",
       "\n",
       "    year  \n",
       "0   2001  \n",
       "1   1984  \n",
       "4   2010  \n",
       "5   2000  \n",
       "8   2000  \n",
       "10  2003  \n",
       "16  1998  \n",
       "17  1999  \n",
       "18  1974  \n",
       "19  2006  "
      ]
     },
     "execution_count": 48,
     "metadata": {},
     "output_type": "execute_result"
    }
   ],
   "source": [
    "songs = songs[['title','release','artist_name','duration','artist_familiarity','artist_hotttnesss','year']]\n",
    "\n",
    "songs = songs[(songs['year'] >= 1965)]\n",
    "\n",
    "songs.head(10)"
   ]
  },
  {
   "cell_type": "markdown",
   "metadata": {},
   "source": [
    "Now, describe the contents of the file"
   ]
  },
  {
   "cell_type": "code",
   "execution_count": 30,
   "metadata": {
    "collapsed": false
   },
   "outputs": [
    {
     "data": {
      "text/html": [
       "<div>\n",
       "<table border=\"1\" class=\"dataframe\">\n",
       "  <thead>\n",
       "    <tr style=\"text-align: right;\">\n",
       "      <th></th>\n",
       "      <th>duration</th>\n",
       "      <th>artist_familiarity</th>\n",
       "      <th>artist_hotttnesss</th>\n",
       "      <th>year</th>\n",
       "    </tr>\n",
       "  </thead>\n",
       "  <tbody>\n",
       "    <tr>\n",
       "      <th>count</th>\n",
       "      <td>4586.000000</td>\n",
       "      <td>4586.000000</td>\n",
       "      <td>4586.000000</td>\n",
       "      <td>4586.000000</td>\n",
       "    </tr>\n",
       "    <tr>\n",
       "      <th>mean</th>\n",
       "      <td>240.197778</td>\n",
       "      <td>0.632719</td>\n",
       "      <td>0.442423</td>\n",
       "      <td>1998.085259</td>\n",
       "    </tr>\n",
       "    <tr>\n",
       "      <th>std</th>\n",
       "      <td>101.653598</td>\n",
       "      <td>0.141099</td>\n",
       "      <td>0.128307</td>\n",
       "      <td>10.035894</td>\n",
       "    </tr>\n",
       "    <tr>\n",
       "      <th>min</th>\n",
       "      <td>1.044440</td>\n",
       "      <td>0.000000</td>\n",
       "      <td>0.000000</td>\n",
       "      <td>1965.000000</td>\n",
       "    </tr>\n",
       "    <tr>\n",
       "      <th>25%</th>\n",
       "      <td>182.810972</td>\n",
       "      <td>0.541033</td>\n",
       "      <td>0.366931</td>\n",
       "      <td>1993.000000</td>\n",
       "    </tr>\n",
       "    <tr>\n",
       "      <th>50%</th>\n",
       "      <td>228.988930</td>\n",
       "      <td>0.623760</td>\n",
       "      <td>0.422305</td>\n",
       "      <td>2001.000000</td>\n",
       "    </tr>\n",
       "    <tr>\n",
       "      <th>75%</th>\n",
       "      <td>279.888528</td>\n",
       "      <td>0.731066</td>\n",
       "      <td>0.512197</td>\n",
       "      <td>2006.000000</td>\n",
       "    </tr>\n",
       "    <tr>\n",
       "      <th>max</th>\n",
       "      <td>1598.197100</td>\n",
       "      <td>1.000000</td>\n",
       "      <td>1.082503</td>\n",
       "      <td>2010.000000</td>\n",
       "    </tr>\n",
       "  </tbody>\n",
       "</table>\n",
       "</div>"
      ],
      "text/plain": [
       "          duration  artist_familiarity  artist_hotttnesss         year\n",
       "count  4586.000000         4586.000000        4586.000000  4586.000000\n",
       "mean    240.197778            0.632719           0.442423  1998.085259\n",
       "std     101.653598            0.141099           0.128307    10.035894\n",
       "min       1.044440            0.000000           0.000000  1965.000000\n",
       "25%     182.810972            0.541033           0.366931  1993.000000\n",
       "50%     228.988930            0.623760           0.422305  2001.000000\n",
       "75%     279.888528            0.731066           0.512197  2006.000000\n",
       "max    1598.197100            1.000000           1.082503  2010.000000"
      ]
     },
     "execution_count": 30,
     "metadata": {},
     "output_type": "execute_result"
    }
   ],
   "source": [
    "songs.describe()"
   ]
  },
  {
   "cell_type": "markdown",
   "metadata": {},
   "source": [
    "Create a scatter plot with columns artist familiarity and hotttnesss (thats a term from the music industry i think)"
   ]
  },
  {
   "cell_type": "code",
   "execution_count": 28,
   "metadata": {
    "collapsed": false,
    "scrolled": true
   },
   "outputs": [
    {
     "data": {
      "text/plain": [
       "[<matplotlib.text.Text at 0xbab9cf8>,\n",
       " <matplotlib.text.Text at 0xb8f5ac8>,\n",
       " <matplotlib.text.Text at 0xbadfe80>]"
      ]
     },
     "execution_count": 28,
     "metadata": {},
     "output_type": "execute_result"
    },
    {
     "data": {
      "image/png": "[encoded data removed]",
      "text/plain": [
       "<matplotlib.figure.Figure at 0x9a9b710>"
      ]
     },
     "metadata": {},
     "output_type": "display_data"
    }
   ],
   "source": [
    "plot1 = songs.plot.scatter(x='artist_familiarity',y='artist_hotttnesss')\n",
    "\n",
    "plot1.set(title='Plot Familiarity and Hotttnesss ',xlabel=\"Artist familiarity\",ylabel=\"Artist hotttnesss\")"
   ]
  },
  {
   "cell_type": "markdown",
   "metadata": {},
   "source": [
    "The above plot shows a positive linear association between artist familiarity and hotttnesss \n",
    "\n",
    "Now, get summary stats for 2 columns (artist_familiarity, artist_hotttnesss)\n",
    "list of Stats \n",
    "    mean\n",
    "    median\n",
    "    variance \n",
    "    StD"
   ]
  },
  {
   "cell_type": "code",
   "execution_count": 42,
   "metadata": {
    "collapsed": false
   },
   "outputs": [
    {
     "name": "stdout",
     "output_type": "stream",
     "text": [
      "0.564829523075\n",
      "0.385552203229\n"
     ]
    }
   ],
   "source": [
    "print songs['artist_familiarity'].mean()\n",
    "print songs['artist_hotttnesss'].mean()"
   ]
  },
  {
   "cell_type": "code",
   "execution_count": 43,
   "metadata": {
    "collapsed": false
   },
   "outputs": [
    {
     "name": "stdout",
     "output_type": "stream",
     "text": [
      "0.563583586258\n",
      "0.380742327592\n"
     ]
    }
   ],
   "source": [
    "print songs['artist_familiarity'].median()\n",
    "print songs['artist_hotttnesss'].median()"
   ]
  },
  {
   "cell_type": "code",
   "execution_count": 45,
   "metadata": {
    "collapsed": false
   },
   "outputs": [
    {
     "name": "stdout",
     "output_type": "stream",
     "text": [
      "0.163160451552\n",
      "0.143647299048\n"
     ]
    }
   ],
   "source": [
    "print songs['artist_familiarity'].std()\n",
    "print songs['artist_hotttnesss'].std()"
   ]
  },
  {
   "cell_type": "code",
   "execution_count": 46,
   "metadata": {
    "collapsed": false
   },
   "outputs": [
    {
     "name": "stdout",
     "output_type": "stream",
     "text": [
      "0.0266213329507\n",
      "0.0206345465238\n"
     ]
    }
   ],
   "source": [
    "print songs['artist_familiarity'].var()\n",
    "print songs['artist_hotttnesss'].var()"
   ]
  },
  {
   "cell_type": "markdown",
   "metadata": {},
   "source": [
    "Now, create a Plot showing total duration (music time) in mins for each year  (duration in seconds, sum to min)"
   ]
  },
  {
   "cell_type": "code",
   "execution_count": 77,
   "metadata": {
    "collapsed": false
   },
   "outputs": [
    {
     "data": {
      "text/plain": [
       "[<matplotlib.text.Text at 0xc437e80>,\n",
       " <matplotlib.text.Text at 0xc31ee10>,\n",
       " <matplotlib.text.Text at 0xc243390>]"
      ]
     },
     "execution_count": 77,
     "metadata": {},
     "output_type": "execute_result"
    },
    {
     "data": {
      "image/png": "[encoded data removed]",
      "text/plain": [
       "<matplotlib.figure.Figure at 0xc3ea748>"
      ]
     },
     "metadata": {},
     "output_type": "display_data"
    }
   ],
   "source": [
    "Durations = songs.groupby('year').agg({'duration': sum }).apply(lambda x: x/60)\n",
    "\n",
    "plot2 = Durations.plot(kind='bar',figsize=(15, 4),legend=None)\n",
    "plot2.set(title=\"Total Recording time (mins) Per Year\",xlabel=\"Year\",ylabel=\"Totals Songs duration in Mins\")\n",
    " "
   ]
  },
  {
   "cell_type": "code",
   "execution_count": null,
   "metadata": {
    "collapsed": true
   },
   "outputs": [],
   "source": []
  }
 ],
 "metadata": {
  "anaconda-cloud": {},
  "celltoolbar": "Raw Cell Format",
  "kernelspec": {
   "display_name": "Python [Root]",
   "language": "python",
   "name": "Python [Root]"
  },
  "language_info": {
   "codemirror_mode": {
    "name": "ipython",
    "version": 2
   },
   "file_extension": ".py",
   "mimetype": "text/x-python",
   "name": "python",
   "nbconvert_exporter": "python",
   "pygments_lexer": "ipython2",
   "version": "2.7.12"
  }
 },
 "nbformat": 4,
 "nbformat_minor": 0
}
